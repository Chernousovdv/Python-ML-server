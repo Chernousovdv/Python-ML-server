{
 "cells": [
  {
   "cell_type": "code",
   "execution_count": 1,
   "id": "48e4ca8b",
   "metadata": {},
   "outputs": [],
   "source": [
    "import requests\n",
    "import time\n",
    "import asyncio\n",
    "import aiohttp\n",
    "import time\n",
    "from sklearn.datasets import fetch_20newsgroups\n",
    "import numpy as np"
   ]
  },
  {
   "cell_type": "markdown",
   "id": "4b47fef2",
   "metadata": {},
   "source": [
    "# Клиентская часть"
   ]
  },
  {
   "cell_type": "markdown",
   "id": "7df3a9a3",
   "metadata": {},
   "source": [
    "### Определим функции клиентской части. Они не будут поддерживать асинхронные запросы. Для демонстрации асинхронности будем использовать .py скрипты."
   ]
  },
  {
   "cell_type": "markdown",
   "id": "c998b8f9",
   "metadata": {},
   "source": [
    "`PORT = 5123`"
   ]
  },
  {
   "cell_type": "code",
   "execution_count": 2,
   "id": "c648deb8",
   "metadata": {},
   "outputs": [],
   "source": [
    "def fit(model_type, model_name, x, y, params={}):\n",
    "    try:\n",
    "        response = requests.post(\n",
    "            \"http://localhost:5123/fit\",\n",
    "            json={\n",
    "                \"model_type\": model_type,\n",
    "                \"params\": params,\n",
    "                \"model_name\": model_name,\n",
    "                \"x\": x,\n",
    "                \"y\": y,\n",
    "            },\n",
    "        )\n",
    "        response.raise_for_status()  # Raise HTTP Error for bad responses\n",
    "        data = response.json()\n",
    "        print(\"Success:\", data[\"message\"])\n",
    "\n",
    "    except requests.exceptions.HTTPError as e:\n",
    "        error_detail = response.json().get(\"detail\", \"Unknown error\")\n",
    "        print(\"Server returned error:\", error_detail)\n",
    "\n",
    "    except Exception as e:\n",
    "        print(\"Request failed:\", str(e))\n",
    "\n",
    "\n",
    "def predict(model_name, x):\n",
    "    try:\n",
    "        response = requests.post(\n",
    "            \"http://localhost:5123/predict\",\n",
    "            json={\"x\": x, \"model_name\": model_name},\n",
    "        )\n",
    "        response.raise_for_status()  # Raise HTTP Error for bad responses\n",
    "        data = response.json()\n",
    "        print(\"Success:\", data[\"prediction\"])\n",
    "\n",
    "    except requests.exceptions.HTTPError as e:\n",
    "        error_detail = response.json().get(\"detail\", \"Unknown error\")\n",
    "        print(\"Server returned error:\", error_detail)\n",
    "\n",
    "    except Exception as e:\n",
    "        print(\"Request failed:\", str(e))\n",
    "\n",
    "\n",
    "def load(model_name):\n",
    "    try:\n",
    "        response = requests.post(\n",
    "            \"http://localhost:PORT/load\",\n",
    "            json={\"model_name\": model_name},\n",
    "        )\n",
    "        response.raise_for_status()  # Raise HTTP Error for bad responses\n",
    "        data = response.json()\n",
    "        print(\"Success:\", data[\"message\"])\n",
    "\n",
    "    except requests.exceptions.HTTPError as e:\n",
    "        error_detail = response.json().get(\"detail\", \"Unknown error\")\n",
    "        print(\"Server returned error:\", error_detail)\n",
    "\n",
    "    except Exception as e:\n",
    "        print(\"Request failed:\", str(e))\n",
    "\n",
    "\n",
    "def unload(model_name):\n",
    "    try:\n",
    "        response = requests.post(\n",
    "            \"http://localhost:PORT/unload\",\n",
    "            json={\"model_name\": model_name},\n",
    "        )\n",
    "        response.raise_for_status()  # Raise HTTP Error for bad responses\n",
    "        data = response.json()\n",
    "        print(\"Success:\", data[\"message\"])\n",
    "\n",
    "    except requests.exceptions.HTTPError as e:\n",
    "        error_detail = response.json().get(\"detail\", \"Unknown error\")\n",
    "        print(\"Server returned error:\", error_detail)\n",
    "\n",
    "    except Exception as e:\n",
    "        print(\"Request failed:\", str(e))\n",
    "\n",
    "\n",
    "def remove(model_name):\n",
    "    try:\n",
    "        response = requests.post(\n",
    "            \"http://localhost:PORT/remove\",\n",
    "            json={\"model_name\": model_name},\n",
    "        )\n",
    "        response.raise_for_status()  # Raise HTTP Error for bad responses\n",
    "        data = response.json()\n",
    "        print(\"Success:\", data[\"message\"])\n",
    "\n",
    "    except requests.exceptions.HTTPError as e:\n",
    "        error_detail = response.json().get(\"detail\", \"Unknown error\")\n",
    "        print(\"Server returned error:\", error_detail)\n",
    "\n",
    "    except Exception as e:\n",
    "        print(\"Request failed:\", str(e))\n",
    "\n",
    "\n",
    "def remove_all():\n",
    "    try:\n",
    "        response = requests.post(\n",
    "            \"http://localhost:PORT/remove_all\",\n",
    "            json={},\n",
    "        )\n",
    "        response.raise_for_status()  # Raise HTTP Error for bad responses\n",
    "        data = response.json()\n",
    "        print(\"Success:\", data[\"message\"])\n",
    "\n",
    "    except requests.exceptions.HTTPError as e:\n",
    "        error_detail = response.json().get(\"detail\", \"Unknown error\")\n",
    "        print(\"Server returned error:\", error_detail)\n",
    "\n",
    "    except Exception as e:\n",
    "        print(\"Request failed:\", str(e))\n",
    "\n",
    "\n",
    "def list_loaded_models():\n",
    "    try:\n",
    "        response = requests.post(\n",
    "            \"http://localhost:5123/list_loaded_models\",\n",
    "            json={},\n",
    "        )\n",
    "        response.raise_for_status()  # Raise HTTP Error for bad responses\n",
    "        data = response.json()\n",
    "        print(\"Success, loaded models: \", data[\"message\"])\n",
    "\n",
    "    except requests.exceptions.HTTPError as e:\n",
    "        error_detail = response.json().get(\"detail\", \"Unknown error\")\n",
    "        print(\"Server returned error:\", error_detail)\n",
    "\n",
    "    except Exception as e:\n",
    "        print(\"Request failed:\", str(e))\n",
    "\n",
    "\n",
    "def list_saved_models():\n",
    "    try:\n",
    "        response = requests.post(\n",
    "            \"http://localhost:5123/list_saved_models\",\n",
    "            json={},\n",
    "        )\n",
    "        response.raise_for_status()  # Raise HTTP Error for bad responses\n",
    "        data = response.json()\n",
    "        print(\"Success, saved models: \", data[\"message\"])\n",
    "\n",
    "    except requests.exceptions.HTTPError as e:\n",
    "        error_detail = response.json().get(\"detail\", \"Unknown error\")\n",
    "        print(\"Server returned error:\", error_detail)\n",
    "\n",
    "    except Exception as e:\n",
    "        print(\"Request failed:\", str(e))\n",
    "\n",
    "\n",
    "def processes():\n",
    "    try:\n",
    "        response = requests.post(\n",
    "            \"http://localhost:5123/processes\",\n",
    "            json={},\n",
    "        )\n",
    "        response.raise_for_status()  # Raise HTTP Error for bad responses\n",
    "        data = response.json()\n",
    "        print(\"Success: n_proc =\", data[\"n_proc\"])\n",
    "\n",
    "    except requests.exceptions.HTTPError as e:\n",
    "        error_detail = response.json().get(\"detail\", \"Unknown error\")\n",
    "        print(\"Server returned error:\", error_detail)\n",
    "\n",
    "    except Exception as e:\n",
    "        print(\"Request failed:\", str(e))"
   ]
  },
  {
   "cell_type": "markdown",
   "id": "80274fbd",
   "metadata": {},
   "source": [
    "Посмотрим что будет если обратиться к выключенному серверу"
   ]
  },
  {
   "cell_type": "code",
   "execution_count": 21,
   "id": "dcacd272",
   "metadata": {},
   "outputs": [
    {
     "name": "stdout",
     "output_type": "stream",
     "text": [
      "Request failed: HTTPConnectionPool(host='localhost', port=5123): Max retries exceeded with url: /list_loaded_models (Caused by NewConnectionError('<urllib3.connection.HTTPConnection object at 0x7d3e1887f440>: Failed to establish a new connection: [Errno 111] Connection refused'))\n"
     ]
    }
   ],
   "source": [
    "list_loaded_models()"
   ]
  },
  {
   "cell_type": "markdown",
   "id": "0fe6a0d1",
   "metadata": {},
   "source": [
    "Получили HTTP - ошибку. Все исключения в серверной части ловятся и выбрасываются как HTTP ошибка"
   ]
  },
  {
   "cell_type": "markdown",
   "id": "6f80da80",
   "metadata": {},
   "source": [
    "Запустим сервер"
   ]
  },
  {
   "cell_type": "code",
   "execution_count": 23,
   "id": "1c8c9f7a",
   "metadata": {},
   "outputs": [
    {
     "name": "stdout",
     "output_type": "stream",
     "text": [
      "Success, loaded models:  []\n"
     ]
    }
   ],
   "source": [
    "list_loaded_models()"
   ]
  },
  {
   "cell_type": "markdown",
   "id": "9b0e8ba3",
   "metadata": {},
   "source": [
    "### Обучим модели"
   ]
  },
  {
   "cell_type": "markdown",
   "id": "d6706d34",
   "metadata": {},
   "source": [
    "Для начала обзаведёмся данными. Для демонстрации работы нам будет достаточно простейших данных"
   ]
  },
  {
   "cell_type": "code",
   "execution_count": 68,
   "id": "5a9bbf91",
   "metadata": {},
   "outputs": [],
   "source": [
    "x = np.array([[1, 2], [3, 4]])\n",
    "y = np.array([0, 1]) "
   ]
  },
  {
   "cell_type": "markdown",
   "id": "5b4964ef",
   "metadata": {},
   "source": [
    "Теперь обучим все 3 вида моделей. Модели реализованы в модуле `classifier` поэтому изменения классификатора можно проводить не затрагивая код серверной части."
   ]
  },
  {
   "cell_type": "code",
   "execution_count": 69,
   "id": "f2fcf3c2",
   "metadata": {},
   "outputs": [
    {
     "name": "stdout",
     "output_type": "stream",
     "text": [
      "Success: LinReg_test fitted successfully\n",
      "Success: RF_test fitted successfully\n",
      "Success: CatBoost_test fitted successfully\n"
     ]
    }
   ],
   "source": [
    "fit(\"LinearRegression\", \"LinReg_test\", x.tolist(), y.tolist())\n",
    "fit(\"RandomForest\", \"RF_test\", x.tolist(), y.tolist())\n",
    "fit(\"CatBoost\", \"CatBoost_test\", x.tolist(), y.tolist())"
   ]
  },
  {
   "cell_type": "markdown",
   "id": "b5bd5eaf",
   "metadata": {},
   "source": [
    "Посмотрим что все модели действительно сохранились"
   ]
  },
  {
   "cell_type": "code",
   "execution_count": 70,
   "id": "14b588f1",
   "metadata": {},
   "outputs": [
    {
     "name": "stdout",
     "output_type": "stream",
     "text": [
      "Success, saved models:  ['RF_test.pkl', 'CatBoost_test.pkl', 'LinReg_test.pkl']\n"
     ]
    }
   ],
   "source": [
    "list_saved_models()"
   ]
  },
  {
   "cell_type": "markdown",
   "id": "41b290d6",
   "metadata": {},
   "source": [
    "Все 3 модели сохранились. Обучим ещё 2 регрессии с тем же именем и посмотрим что будет"
   ]
  },
  {
   "cell_type": "code",
   "execution_count": 71,
   "id": "1b2b7075",
   "metadata": {},
   "outputs": [
    {
     "name": "stdout",
     "output_type": "stream",
     "text": [
      "Success: LinReg_test fitted successfully\n",
      "Success: LinReg_test fitted successfully\n"
     ]
    }
   ],
   "source": [
    "fit(\"LinearRegression\", \"LinReg_test\", x.tolist(), y.tolist())\n",
    "fit(\"LinearRegression\", \"LinReg_test\", x.tolist(), y.tolist())"
   ]
  },
  {
   "cell_type": "code",
   "execution_count": 72,
   "id": "a482f97e",
   "metadata": {},
   "outputs": [
    {
     "name": "stdout",
     "output_type": "stream",
     "text": [
      "Success, saved models:  ['LinReg_test_1.pkl', 'RF_test.pkl', 'CatBoost_test.pkl', 'LinReg_test_2.pkl', 'LinReg_test.pkl']\n"
     ]
    }
   ],
   "source": [
    "list_saved_models()"
   ]
  },
  {
   "cell_type": "markdown",
   "id": "2d28626f",
   "metadata": {},
   "source": [
    "Сервер правильно обработал граничный случай одинаковых имён"
   ]
  },
  {
   "cell_type": "markdown",
   "id": "3fd01bf0",
   "metadata": {},
   "source": [
    "### Манипуляции с сохранёнными моделями"
   ]
  },
  {
   "cell_type": "markdown",
   "id": "75dc4ce9",
   "metadata": {},
   "source": [
    "Загрузим обученнуе ранее модели линейной регрессии и случайного леса"
   ]
  },
  {
   "cell_type": "code",
   "execution_count": 73,
   "id": "6afb7be9",
   "metadata": {},
   "outputs": [
    {
     "name": "stdout",
     "output_type": "stream",
     "text": [
      "Success: Model 'LinReg_test' loaded successfully\n",
      "Success: Model 'RF_test' loaded successfully\n"
     ]
    }
   ],
   "source": [
    "load(\"LinReg_test\")\n",
    "load(\"RF_test\")"
   ]
  },
  {
   "cell_type": "markdown",
   "id": "ebbb59ca",
   "metadata": {},
   "source": [
    "Посмотрим какие модели загружены"
   ]
  },
  {
   "cell_type": "code",
   "execution_count": 76,
   "id": "2faab9b4",
   "metadata": {},
   "outputs": [
    {
     "name": "stdout",
     "output_type": "stream",
     "text": [
      "Success, loaded models:  ['RF_test', 'LinReg_test']\n"
     ]
    }
   ],
   "source": [
    "list_loaded_models()"
   ]
  },
  {
   "cell_type": "markdown",
   "id": "c8d5ea7a",
   "metadata": {},
   "source": [
    "Сделаем предсказания каждой моделью"
   ]
  },
  {
   "cell_type": "code",
   "execution_count": 78,
   "id": "03b7f795",
   "metadata": {},
   "outputs": [
    {
     "name": "stdout",
     "output_type": "stream",
     "text": [
      "Success: [0, 1]\n",
      "Success: [1.1102230246251565e-16, 1.0]\n"
     ]
    }
   ],
   "source": [
    "predict(\"RF_test\", x.tolist())\n",
    "predict(\"LinReg_test\", x.tolist())"
   ]
  },
  {
   "cell_type": "markdown",
   "id": "ab4fc021",
   "metadata": {},
   "source": [
    "Выгрузим все модели"
   ]
  },
  {
   "cell_type": "code",
   "execution_count": 79,
   "id": "c38a467a",
   "metadata": {},
   "outputs": [
    {
     "name": "stdout",
     "output_type": "stream",
     "text": [
      "Success: Model 'LinReg_test' has been unloaded\n",
      "Success: Model 'RF_test' has been unloaded\n"
     ]
    }
   ],
   "source": [
    "unload(\"LinReg_test\")\n",
    "unload(\"RF_test\")"
   ]
  },
  {
   "cell_type": "markdown",
   "id": "7b4a3970",
   "metadata": {},
   "source": [
    "Посмотрим и убедимся что на данный момент нет загруженных моделей"
   ]
  },
  {
   "cell_type": "code",
   "execution_count": 80,
   "id": "a759d429",
   "metadata": {},
   "outputs": [
    {
     "name": "stdout",
     "output_type": "stream",
     "text": [
      "Success, loaded models:  []\n"
     ]
    }
   ],
   "source": [
    "list_loaded_models()"
   ]
  },
  {
   "cell_type": "markdown",
   "id": "e6a9fb86",
   "metadata": {},
   "source": [
    "Удалим модель"
   ]
  },
  {
   "cell_type": "code",
   "execution_count": 81,
   "id": "ea8244fd",
   "metadata": {},
   "outputs": [
    {
     "name": "stdout",
     "output_type": "stream",
     "text": [
      "Success: Model file 'LinReg_test_1' removed successfully\n"
     ]
    }
   ],
   "source": [
    "remove(\"LinReg_test_1\")"
   ]
  },
  {
   "cell_type": "code",
   "execution_count": 82,
   "id": "37ea41f1",
   "metadata": {},
   "outputs": [
    {
     "name": "stdout",
     "output_type": "stream",
     "text": [
      "Success, saved models:  ['RF_test.pkl', 'CatBoost_test.pkl', 'LinReg_test_2.pkl', 'LinReg_test.pkl']\n"
     ]
    }
   ],
   "source": [
    "list_saved_models()"
   ]
  },
  {
   "cell_type": "markdown",
   "id": "b5afbb80",
   "metadata": {},
   "source": [
    "Попробуем удалить эту модель ещё раз (должны получить ошибку)"
   ]
  },
  {
   "cell_type": "code",
   "execution_count": 83,
   "id": "399b9d75",
   "metadata": {},
   "outputs": [
    {
     "name": "stdout",
     "output_type": "stream",
     "text": [
      "Server returned error: [Errno 2] No such file or directory: '/home/danilach/python_ML_server/models/LinReg_test_1.pkl'\n"
     ]
    }
   ],
   "source": [
    "remove(\"LinReg_test_1\")"
   ]
  },
  {
   "cell_type": "markdown",
   "id": "aa6e8ce9",
   "metadata": {},
   "source": [
    "Удалим все модели"
   ]
  },
  {
   "cell_type": "code",
   "execution_count": 84,
   "id": "f5511320",
   "metadata": {},
   "outputs": [
    {
     "name": "stdout",
     "output_type": "stream",
     "text": [
      "Success: folder /home/danilach/python_ML_server/models is cleared successfully\n",
      "Success, saved models:  []\n"
     ]
    }
   ],
   "source": [
    "remove_all()\n",
    "list_saved_models()"
   ]
  },
  {
   "cell_type": "markdown",
   "id": "08d1e6ba",
   "metadata": {},
   "source": [
    "### Параллельное обучение"
   ]
  },
  {
   "cell_type": "markdown",
   "id": "39eac81b",
   "metadata": {},
   "source": [
    "Теперь посмотрим насколько быстрее обучать модели параллельно. Слегка изменим код с лекции чтобы он можно было менять число запускаемых процессов"
   ]
  },
  {
   "cell_type": "code",
   "execution_count": null,
   "id": "bb9cf865",
   "metadata": {},
   "outputs": [],
   "source": [
    "import aiohttp\n",
    "import asyncio\n",
    "import time\n",
    "import argparse\n",
    "\n",
    "model_path = \"test-model\"\n",
    "\n",
    "# Example data matching your server's expected schema\n",
    "fit_payload = {\n",
    "    \"x\": [[1, 2], [3, 4]],  # Replace with actual training data\n",
    "    \"y\": [0, 1],  # Replace with actual labels\n",
    "    \"model_name\": model_path,\n",
    "    \"model_type\": \"LinearRegression\",\n",
    "    \"params\": {},\n",
    "}\n",
    "\n",
    "\n",
    "async def post(session, payload):\n",
    "    async with session.post(\n",
    "        url=\"http://localhost:5123/fit\",\n",
    "        json=payload,\n",
    "    ) as response:\n",
    "        if response.status == 200:\n",
    "            data = await response.json()\n",
    "            print(data)\n",
    "        else:\n",
    "            print(f\"Request failed with status: {response.status}\")\n",
    "\n",
    "\n",
    "async def main(num_requests):\n",
    "    async with aiohttp.ClientSession() as session:\n",
    "        await asyncio.gather(*[post(session, fit_payload) for _ in range(num_requests)])\n",
    "\n",
    "\n",
    "if __name__ == \"__main__\":\n",
    "    parser = argparse.ArgumentParser(description=\"AsyncFit\")\n",
    "    parser.add_argument(\n",
    "        \"--num_requests\",\n",
    "        type=int,\n",
    "        required=True,\n",
    "    )\n",
    "    args = parser.parse_args()\n",
    "\n",
    "    ts = time.time()\n",
    "    try:\n",
    "        asyncio.run(main(args.num_requests))\n",
    "    except Exception as e:\n",
    "        print(f\"Exception occurred: {e}\")\n"
   ]
  },
  {
   "cell_type": "markdown",
   "id": "42164aae",
   "metadata": {},
   "source": [
    "Запустим обучение 2 моделей."
   ]
  },
  {
   "cell_type": "code",
   "execution_count": 9,
   "id": "83d861d0",
   "metadata": {},
   "outputs": [
    {
     "name": "stdout",
     "output_type": "stream",
     "text": [
      "test-model1 fitted successfully\n",
      "test-model0 fitted successfully\n",
      "CPU times: user 1.48 s, sys: 220 ms, total: 1.7 s\n",
      "Wall time: 1min 46s\n"
     ]
    }
   ],
   "source": [
    "%%time\n",
    "!python3 run_last_script.py --num_requests 2"
   ]
  },
  {
   "cell_type": "markdown",
   "id": "f0d0cfd6",
   "metadata": {},
   "source": [
    "Теперь сделаем тоже самое последовательно"
   ]
  },
  {
   "cell_type": "code",
   "execution_count": 10,
   "id": "06106421",
   "metadata": {},
   "outputs": [
    {
     "name": "stdout",
     "output_type": "stream",
     "text": [
      "test-model0 fitted successfully\n",
      "test-model0 fitted successfully\n",
      "CPU times: user 2.55 s, sys: 389 ms, total: 2.94 s\n",
      "Wall time: 3min 31s\n"
     ]
    }
   ],
   "source": [
    "%%time\n",
    "!python3 run_last_script.py --num_requests 1\n",
    "!python3 run_last_script.py --num_requests 1"
   ]
  },
  {
   "cell_type": "markdown",
   "id": "c02e2d0f",
   "metadata": {},
   "source": [
    "Видим что, как и ожидали, параллельное обучение двух моделей произошло в два раза быстрее"
   ]
  },
  {
   "cell_type": "code",
   "execution_count": 13,
   "id": "cf54dbdf",
   "metadata": {},
   "outputs": [
    {
     "name": "stdout",
     "output_type": "stream",
     "text": [
      "Success: folder /home/danilach/python_ML_server/models is cleared successfully\n"
     ]
    }
   ],
   "source": [
    "remove_all()"
   ]
  },
  {
   "cell_type": "markdown",
   "id": "b67ccbbd",
   "metadata": {},
   "source": [
    "Попробуем запустить обучение на 7 процессах (в нашем случае `n_jobs` = 5, т.е. максимум 4 процесса обучения)"
   ]
  },
  {
   "cell_type": "code",
   "execution_count": 7,
   "id": "687b2189",
   "metadata": {},
   "outputs": [
    {
     "name": "stdout",
     "output_type": "stream",
     "text": [
      "Request failed with status: 400\n",
      "Detail: Cannot create another process, n_jobs = 5 are already running\n",
      "Request failed with status: 400\n",
      "Detail: Cannot create another process, n_jobs = 5 are already running\n",
      "Request failed with status: 400\n",
      "Detail: Cannot create another process, n_jobs = 5 are already running\n",
      "test-model2 fitted successfully\n",
      "test-model6 fitted successfully\n",
      "test-model3 fitted successfully\n",
      "test-model4 fitted successfully\n",
      "CPU times: user 210 ms, sys: 50.1 ms, total: 261 ms\n",
      "Wall time: 11.6 s\n"
     ]
    }
   ],
   "source": [
    "%%time\n",
    "!python3 run_last_script.py --num_requests 7"
   ]
  },
  {
   "cell_type": "markdown",
   "id": "69127240",
   "metadata": {},
   "source": [
    "Модели обучились, посмотрим сколько активных процессов в данный момент на сервере "
   ]
  },
  {
   "cell_type": "markdown",
   "id": "1e8b8155",
   "metadata": {},
   "source": [
    "1 процесс - основной процесс самого сервера. Всё работает как и задумано "
   ]
  },
  {
   "cell_type": "markdown",
   "id": "edb94758",
   "metadata": {},
   "source": [
    "### Асинхронный вызов нескольких предсказаний"
   ]
  },
  {
   "cell_type": "markdown",
   "id": "01697ec8",
   "metadata": {},
   "source": [
    "Код `async_predict.py`"
   ]
  },
  {
   "cell_type": "code",
   "execution_count": null,
   "id": "ed2b6030",
   "metadata": {},
   "outputs": [],
   "source": [
    "import aiohttp\n",
    "import asyncio\n",
    "import time\n",
    "import argparse\n",
    "from sklearn.datasets import make_regression\n",
    "\n",
    "X, y = make_regression(n_samples=2000, n_features=100, noise=0.1)\n",
    "\n",
    "\n",
    "model_path = \"test-model\"\n",
    "\n",
    "# Example data matching your server's expected schema\n",
    "\n",
    "\n",
    "def fit_payload(i):\n",
    "    return {\n",
    "        \"x\": X.tolist(),  # Replace with actual training data\n",
    "        \"model_name\": model_path + f\"{i}\",\n",
    "    }\n",
    "\n",
    "\n",
    "async def post(session, payload):\n",
    "    try:\n",
    "        async with session.post(\n",
    "            url=\"http://localhost:5123/predict\",\n",
    "            json=payload,\n",
    "        ) as response:\n",
    "            if response.status == 200:\n",
    "                data = await response.json()\n",
    "                print(data)\n",
    "            else:\n",
    "                try:\n",
    "                    error_data = await response.json()\n",
    "                    print(f\"Request failed with status: {response.status}\")\n",
    "                    print(f\"Detail: {error_data.get('detail', 'No detail provided')}\")\n",
    "                except Exception:\n",
    "                    print(\n",
    "                        f\"Request failed with status: {response.status}, but no JSON detail returned.\"\n",
    "                    )\n",
    "    except aiohttp.ClientError as e:\n",
    "        print(f\"Request failed due to client error: {e}\")\n",
    "\n",
    "\n",
    "async def main(num_requests):\n",
    "    async with aiohttp.ClientSession() as session:\n",
    "        await asyncio.gather(\n",
    "            *[post(session, fit_payload(i)) for i in range(num_requests)]\n",
    "        )\n",
    "\n",
    "\n",
    "if __name__ == \"__main__\":\n",
    "    parser = argparse.ArgumentParser(description=\"AsyncFit\")\n",
    "    parser.add_argument(\n",
    "        \"--num_requests\",\n",
    "        type=int,\n",
    "        required=True,\n",
    "    )\n",
    "    args = parser.parse_args()\n",
    "\n",
    "    ts = time.time()\n",
    "    try:\n",
    "        asyncio.run(main(args.num_requests))\n",
    "    except Exception as e:\n",
    "        print(f\"Exception occurred: {e}\")"
   ]
  },
  {
   "cell_type": "markdown",
   "id": "bd1c904e",
   "metadata": {},
   "source": [
    "Загрузим и вызовем предикт"
   ]
  },
  {
   "cell_type": "code",
   "execution_count": 17,
   "id": "66923874",
   "metadata": {},
   "outputs": [
    {
     "name": "stdout",
     "output_type": "stream",
     "text": [
      "Success: Model 'test-model0' loaded successfully\n",
      "Success: Model 'test-model1' loaded successfully\n",
      "Success: Model 'test-model2' loaded successfully\n",
      "Success: Model 'test-model3' loaded successfully\n"
     ]
    }
   ],
   "source": [
    "for i in range(4):\n",
    "    load(f\"test-model{i}\")"
   ]
  },
  {
   "cell_type": "code",
   "execution_count": 19,
   "id": "b3049b84",
   "metadata": {},
   "outputs": [
    {
     "name": "stdout",
     "output_type": "stream",
     "text": [
      "{'prediction': [80.14116992660202, -141.87147402883184, 17.53571764764044, -55.07272317292556, 4.178167926712026, -48.66051455667085, -76.9273958314548, 138.6290278915488, 34.29854069258988, -46.724091276296704, -76.4433003908822, -4.92895982402721, -9.03437945883784, -17.24253860122012, -16.740328123124275, 66.1755860434453, 11.223093119835571, -16.401128731929045, 18.643566677946488, -204.23571789189992, 132.15658469830296, -16.801801932838455, -33.242764764977025, 45.309418722090356, 102.92531385091284, -74.78497457841178, 35.50191210710427, -6.338997733120814, 1.7290496836785239, -126.09547590795108, 5.183219237927839, -35.98015452263401, -175.2322367516432, 119.94071294813804, -99.94346718825219, -69.02460595542476, 156.3516569441584, -40.14127080794025, -120.45472640695886, -60.84496499865907, 88.66774330100974, -93.28592867148913, 12.947028718122642, 70.916419055853, 23.729652401052455, -103.17546187716374, -188.79875086462744, -61.06945159914848, -15.235445573704277, -122.48723175485594, -107.6866469066735, 14.947152515644657, -17.676841601284597, -22.56985775758476, -66.15108686435958, -109.90919120959312, 116.32994941475874, 40.859474685295574, -8.685460141321325, -42.58133316787715, 69.98915581595617, 81.5198386693943, 97.42750166308795, 47.520425400117475, 10.831055994248196, -24.292438191091243, 25.554051768862255, -70.4407852413878, 62.20859304574232, 14.559305785237717, 87.7082413486396, 88.78238031388882, -216.70020904822508, 2.358649370502466, 99.68617862326334, -102.94437786920675, -47.46637253604676, 58.13282700960255, -77.98169715180184, 23.710146735686738, 194.4970958682326, 61.69650869868608, -76.71727264939956, -74.75552426542168, 82.25257303008846, 153.3461945055432, 61.10006291540351, 14.941503921295872, 33.45855482690814, 84.23361921304415, -185.45625605448146, -48.96063172472811, 74.14636680323117, 248.06345921382325, 38.27756589652207, 17.48346732513033, 3.806482988427746, 117.64933424626439, -22.413510996404092, 82.68192685556134, -179.82222808213137, -24.76511226280153, 65.09865827484627, -40.390504124361804, -73.30434236832501, 59.84497490878305, 119.76901887523005, -112.66516651242644, 32.31387326013751, -54.454779519104775, 34.42258370402907, -166.04954413054608, -35.03065603585274, 69.19591811003585, 6.960313353224674, 4.58060589324213, 12.869838444770885, 225.11551574505467, 123.49533559488303, -56.91920742215747, -16.593898671086436, 167.49842096986174, -5.9961011633856565, -52.37007674861749, -42.92451430632299, -16.707479151276406, -182.70601567982095, -102.98135251401838, -125.2624275755318, 108.78311081355567, 16.212372426733623, -135.82690774324988, 16.7074928035937, 88.72492166254851, 57.05973622215842, -43.2546451349826, -45.65798372479291, -31.007472897606966, -135.43834888556782, 142.12241999622856, -64.99523664729558, 68.9957233335404, 143.36212611619075, -36.059023259766626, -29.37180617710075, 109.45513243844346, -150.9124838279436, 57.530015583646374, -25.826661114527145, -112.04603813877357, -70.63076673276655, 22.44435712662645, -2.4943460023386272, -166.06894860437032, -37.57006638524391, 23.721424510903955, -35.51237524968629, -143.43813433876315, -18.155468419721977, 112.0698822204152, 5.997750852647965, 80.53567155449701, 65.59870311093513, 15.388407312489049, -83.5690653832102, 51.6641423863412, -29.4265318051859, -72.4319193596121, -94.0545452075208, 7.953431152172959, 13.17337134575909, 39.00153745502096, -89.24972293075713, -24.782586221957217, -114.8362353356541, -117.77724286989378, 61.907377368360585, -57.92220558211768, -63.4417320504081, -160.19737840429855, 86.57176264629807, 2.278342374964626, -93.53309909456877, 155.90378430828738, 45.93126207494096, 48.103784747880546, -91.05146759953021, -2.46376220740622, -4.427622953934806, -20.462502858749744, 191.9155050385794, 17.37536113815088, 102.77549908642476, -33.27099573073042, -16.520150155951857, 105.46720150800729, 77.10211901918323, -124.84414670311546, -29.345921164573593, 11.24183588586442, 94.64213402159636, -8.245204098874108, 3.060821816380776, -170.42294050581285, 24.77092763762283, -34.42338211428861, -19.244703534335002, -97.74264353826005, -27.391523779318277, -29.820954385958213, -114.9223370281283, -13.992577057248328, 94.87466239550551, -84.71294810249525, 77.96899421814219, -82.22886899039155, 49.76602177138495, -109.72095789755811, -2.5037257031177664, 95.94013430838628, -121.1563302433647, -131.77968053486774, -207.0872199007589, -103.5398333988228, 36.05608638192406, -59.62526130234531, 139.50739089863788, -85.30819922594715, -41.648544391536, -32.93415313646981, 29.879413032024623, 116.7898527762783, 167.82824539052342, 108.01493887942156, -78.19601866673808, -12.422437952502941, -135.1346297742323, 3.0501480330482877, -64.279423053866, -132.07055606644178, 94.37504359111882, -175.5149055567457, 98.85995685896737, 4.560891543393286, -199.46999440990524, 133.2878277896363, -147.39704810562137, 75.44444976364572, 137.33562907374977, 40.097729653158005, 139.8879107919896, 76.32598902263247, -34.72595418009789, -138.51252457657478, -21.144781346975787, -63.714915423153535, -211.4318628112322, 48.16740261082491, -63.95704427534722, 3.647413654344975, -35.175845573648765, 37.47676390700578, 9.141040854896987, 28.674270338655692, -84.21574967439088, -96.2791702136139, -90.1859895477621, 192.43871992953964, -48.21537507430247, -241.5675340260793, 18.49110739277791, 93.24677026889174, -99.4980359598231, -206.76357180525756, -117.86163905547296, 97.13490778110838, -54.50510395020924, 95.52708372214673, 136.32439715272847, -122.01848396804984, 89.97518945049181, 154.2553659094168, 65.76140367812417, -85.70174067436164, 187.4736626773112, 37.589913089122085, 105.65190772821126, 5.865019759977791, 65.48128985164549, 10.571043471098767, 138.980794895609, 99.01134960194618, -122.64942410151956, 53.3932822524384, 173.25630199784428, -100.68680516417575, 14.638099931788606, 15.36580670666714, 146.87423065730783, -124.41662993765429, 75.3822065104544, -112.66477393476991, -0.6550643030624831, -32.03104227847208, 20.538055852918276, -33.03044746112892, 40.96301835042283, -25.648660710314974, 96.64295569139837, 178.32322191072075, 125.20518169617787, -153.51703423311912, -19.8436443363679, -20.454137564596152, -79.38151198384338, 48.25701545992473, 159.50635021751899, 2.919461663184731, -22.060379120968488, -193.63203568929305, 80.26484447008512, -60.327023927368394, 55.51322213369849, 56.137063375459846, 67.56867746319658, -23.29144674905076, -11.778185203144739, 24.32056682960168, -182.6390939375346, 140.83694428152356, -30.642724901538127, -14.979823000398664, -51.5343401829321, -53.582653166111285, 173.9015449960448, 158.33845026973805, 115.79116848092931, 15.246541025618324, 20.150006760504574, -44.452369849448225, 0.5995700649039575, 130.75429983036886, 46.30460303042852, -27.671392534702555, 105.55801969845247, -206.8478941055769, 89.22103831591589, -56.73812000597681, -86.25949539707112, -173.35346325661786, -53.15604538247244, 48.04676822983818, 27.605477140286972, -87.75939598761681, -39.484873273883295, 73.26833313960906, -108.78004652978831, 70.52343827895727, 43.39761794824153, -56.13005671693857, 195.54970571238823, 47.846493378063876, 22.174969495210366, -42.7722217942156, 82.76484259345385, 16.461763824433202, -26.542627551338406, -96.72238751649476, -45.20443139248907, 62.93587190865871, 96.45077139993575, -7.14393809774925, 56.56406345411245, -82.61262881101071, -5.273518205117509, 198.75388628427595, 49.34139113028258, -103.0001417810933, 18.6410334852579, -9.826272304203577, 68.00733411102333, 51.79734910982191, 36.25490296959852, -77.51315137573053, 14.654314278612794, 120.42179289738944, 3.7747700065575684, 18.616851889523765, -28.411318056390073, 168.35739079824936, 29.256495842731987, -32.93821500957121, 15.679418733353964, -164.3639954022992, 167.9320704107115, -44.37595597381284, 16.933801262614047, 49.63528378990004, -113.10710563674061, -11.32275641432051, -70.7306930836461, 66.9697466435208, -112.52260722721824, -7.920758392205711, 86.90224294732965, -59.66759517929176, -55.37142804413673, -122.81296055572383, 109.27958739375872, 75.09200845773884, 89.67158959507721, -8.05298594468906, -19.27096852808278, -1.726351657238903, 15.357165707912042, 20.422708288602067, 5.409475869489365, -63.42906796711784, -121.79068585554047, 196.8015897422903, -180.4151865976579, -44.96218664574755, -31.54877342736528, 168.02824447846447, 21.049909964929736, -8.689702418711821, 121.13635008133332, -54.6007137952013, -44.07822914965829, -160.05366261641072, 44.23439563680647, -124.14591933182436, 100.04090156391253, 93.28129811795199, 0.6301242349859599, -56.52851756789795, 15.479326394789618, 7.374983707588069, -80.95351499434908, -65.37203982229542, 7.070388201849905, -134.18035342206622, 188.55408335390715, 5.806535689281324, -36.763434059784316, -99.24929307941801, -79.58978795507176, 91.92977361975476, 2.2005751709818226, -142.88853089427894, -40.022412161455435, 224.96627970721477, 128.08507970589352, 25.33196570170687, 76.54933762904678, 199.16250440714796, -25.08736645917364, 129.67222275058404, -85.53692364482075, 34.94432013667153, 185.778631214454, 90.81996345143556, -22.783188870004793, 95.08341692435592, -36.17207026320008, -25.382560292132677, -77.93411478701418, 15.18841494367806, 1.3283868798370535, 19.149762572291216, -118.62784132230283, -21.21882019931269, -218.88546536572335, -41.919057358468216, 96.3613549405319, 77.65606709610661, -33.705393831567065, -151.394472202789, 22.672152995683682, 183.47003951857425, -93.61192104591287, -73.15797206157164, -71.50984150346957, 121.78930020389328, -1.6937376949973184, -27.477213532398565, -96.23658162835656, 47.826721499361504, -48.09636471111249, -166.2948794798051, 77.53310892701352, -66.3423550001765, -135.60033477045832, -34.297807492069076, -172.92665490317154, -63.391503936891596, -149.86364524317057, 70.89569573144598, -45.071246310965854, 5.89873124906536, -86.52525010049435, 98.62641555602477, 13.044145693259077, 17.522838807044085, 194.1244396057286, 131.52295328265896, 15.881786459217631, 39.8557176458617, 240.64522898014675, 151.05468048899436, -13.070185299906319, 14.062002982907654, -46.790577741743476, -19.142858624767488, -0.41597927872218743, -0.2238473162651109, 60.25727640461618, -178.6535245899731, -107.41108023340112, 9.314172370543671, 66.99231499232752, -180.92320811081703, 27.23962333653459, 170.38848521245075, 101.66315818581597, -118.0463549993934, 38.94542573350167, 102.21855852501614, -41.42411178415266, -36.811806717852264, 60.36829053706246, 152.34895251398473, 60.88367341183525, 103.35115888880946, -69.47461088561982, -14.65915585739475, 60.18367665315472, -68.54750902725714, 131.18075923073354, -13.279231857654555, 233.06381342635189, 98.4474321416378, -66.65416910639554, -168.02412359349958, -24.548991789789874, 24.178035909533854, -115.31744857234531, -62.389861088875904, -174.5752170142754, 9.736444943785163, -151.1607831527029, 8.419936338336639, 66.21377638410155, 90.92569651043965, -141.38770664591763, 66.2336717927173, 144.56389437752034, -77.78450077551226, 43.56498360984094, 29.106496728844377, 83.46881026799655, 202.14581610732068, 159.2070033502806, -156.91040530922328, 5.10216577004424, 35.21381924278014, -1.820914913485513, -23.89883696362539, 74.18636977482714, -36.28037145896783, -86.83240666767864, 246.89147405510982, 93.99247686574041, 89.85776238996993, -169.7528057394301, 86.7264095353768, -157.9808551081161, -87.09593954747712, -108.09991720021446, -55.228575657084704, -18.158445650844317, -4.3328519783030695, 76.9802632204432, -9.89662879381049, -11.671305947714455, -42.586320389593304, 38.6114961548183, 13.174194866840512, -85.718042716639, -150.05609239067246, -36.324227500368345, -36.44888830291697, 102.48426882264349, 17.313559823680745, 45.22160528190764, 75.1225417077861, -152.25720536676218, -169.28122742436722, -132.85052716748984, 123.80487322010566, -9.029168970250135, 13.563944128865966, 8.146354053099296, -58.9035618967522, -29.489941209266878, -79.8541507366573, -83.8965990049714, 79.70878053820749, 59.70146764025788, 64.06069634846905, 5.398321658606196, 164.73393238420908, 146.48227793505004, 37.38758934110435, 62.518506134174785, 178.61403270554, -196.65908467323706, 130.75602625919126, 9.46777628089426, -9.853515428115875, -109.91368009630261, 21.324178385204377, 21.40115811560018, -24.328387080320667, 110.38095457026436, 97.30100431969873, -81.41425167024951, 144.8074334857317, -1.5563667420520624, -165.25226099651434, -3.1041080015944407, 6.912367537176933, 21.45705015069034, 81.24985137321772, 36.90189892206381, 52.952550605761324, 173.8774326145735, 39.701002171121935, -11.58531988860451, 93.37551817412422, 135.28414589188878, -267.7215259473774, 92.98508863950826, 33.328519291599996, 110.70679461439443, -34.15768619622951, -50.469723678206144, 129.68177406241392, 107.85071580321306, 189.64615233871723, -101.9122561318414, 146.86064845172484, 140.64340935968355, -97.22586781239642, -1.828867879249396, -86.67238569985733, -61.52187783220678, -93.87230887890325, 48.906315786206754, -106.21661117014362, 118.99160031453363, 129.00596136429306, -136.2915296899779, -7.137555324177158, 167.7330492537666, 85.2136788090193, -153.2937944014487, 105.2960529670521, 57.043272648178075, 51.19832014072254, -15.547353480212632, -91.34181293570704, 227.80744805016894, 2.8138058856141437, -131.47144850951136, 139.59087160854668, -33.79170451065646, 137.96420799782362, 149.75673526429696, -59.24901242880819, -41.86032106945296, 91.34676177842391, -126.97680071263507, 18.13190605272469, -8.66992668786493, -93.89265776244221, -33.9159832736728, 83.43707054955021, 159.783331522163, 65.76600296919872, 21.88926219565458, 26.801187411269684, 92.24766451143034, 6.9161797167350025, -56.1390689823962, 19.250126199735416, 91.91331392971713, -90.89173797984637, 17.491653246836773, -61.088668049026495, -59.842545211389115, 86.11623342166719, 14.305804928367152, -2.8938981198017872, -64.61372713210099, 64.24603330951804, 122.32057099625048, -94.58997879879527, -64.72592616971454, -154.68726557484234, 22.10392838725393, -65.77032920389412, 119.58185024104012, -242.2694613911351, -131.1063645057365, -118.59324797451552, -29.78827143269687, 68.79853622089155, 36.36920212294216, -74.4874878337903, 41.69836501226694, 148.4328666874591, 149.58863449773636, 74.59365638953307, 30.994682660208777, -37.209650466709256, 115.95623349718615, 47.94579964027707, -8.42140245841133, -28.62713377515854, 22.06678432298022, -37.691780973659455, -206.0789111996898, -22.560217811148185, 34.07709873707901, 22.11885830939436, 176.29956954478746, -106.57739559564575, 41.377936922563876, 113.3264153920734, 165.99974640334165, 20.20989577661366, -49.33131244308107, 30.569343537113426, 5.178113201585828, -137.488226494895, -81.57382664254538, 82.72813742405997, 115.80653129413992, -108.36774864632241, -107.91970834213153, 37.95287209642508, -179.8806236223232, 4.6977785022734455, -91.3971635648887, 86.56353107065387, 34.01226406509187, -43.20121529465534, -178.6704276813937, 115.83733734274634, -12.562021701114581, -14.124085855703946, 103.87734196432076, 4.972076290223879, -246.92824602983555, 92.99179566639478, 69.13994782524036, 26.019605230934022, -201.71221143128776, 16.365712903473092, -118.90634141305496, 103.04474322418224, -75.6815844300606, 137.65495039687096, -26.252298806546328, 210.35429529562833, 27.31175386778968, 100.36619896386978, 250.69671312452724, 31.04219134194982, 42.21908346086824, -168.0134094800485, 0.5127311235152237, -47.94783425853802, -54.45211642981093, -74.89757842874975, 142.18469360201155, 31.801898776236047, -4.348374084339021, -16.11270841326581, 10.618797093500707, -210.38549774364955, -119.7342515391665, -52.082217896343955, 65.21162477780135, -119.09714478257753, -77.51519334669925, 39.93731797710754, -41.8022618238652, 61.97901500355058, -83.37631515450889, -11.620197761479238, 114.94760303860079, 58.815938078639256, 45.878083243294405, -196.26776015149468, -93.00299621666458, 90.1871714110103, 39.50728187810747, -91.75739970951714, -152.43651804583558, -119.38271045843827, 37.08287998040664, 29.5344244881208, 21.373134725963094, 168.90099920652676, 153.30866698221206, -3.293597390599122, -183.60867837273955, -135.55069789967635, 91.57254571238747, -14.917849290640566, -10.081170533497994, 148.98883645055656, -19.745099793321494, -75.98880395305324, -99.94220301139336, 33.63983769573999, -148.58259486150268, 141.34311141590646, -148.45632897476565, 10.795852394305616, 70.63966683714015, -2.513803260158804, -103.52974651194373, -55.79217754539261, -51.78610820320765, 203.44036344522655, -150.4127383793283, -213.6565568492627, -23.80860967866127, 118.68711303591192, 12.03767751542597, -22.819328563630133, -60.085291297213935, 201.02555749014454, 9.90214600253637, 39.714243283318744, -35.77288144257652, -15.295367336129315, 18.45192034122867, -93.94622062683419, 36.505932809404186, 22.542419688452718, 184.02778145873134, 125.77515782118302, -148.86259154517663, -102.15307315015443, -62.11635234048024, 47.23010224576969, -96.79242909717038, 38.65858741550175, 24.178172623284283, -24.289625220150686, 9.87934927775682, -61.89214006011146, -60.162293136512865, -25.634094690768947, 52.031559301319, -90.9936092561447, 35.80935488990393, 19.292506802684795, 91.83254050489884, 72.02705208156803, 39.78735850103062, 34.69542629683324, 23.607783291868813, 32.149595427435415, 23.710753548399225, 154.77191776948968, -45.14651788581465, -11.416974910374783, -113.0609350153076, 10.17781380615797, -27.897062852694084, -220.37957188142843, 124.39483275601079, 108.05496473341731, -25.689375481514368, 115.81389544982, 67.89758560947968, 102.95533212878087, 42.50533097837723, 146.97773403742593, 72.0943322071801, -51.28434736939421, -153.05016082793992, -70.02528987606149, -77.24734486931462, 38.02660401504326, 31.347814794299943, -143.62363679045012, 34.53540608370874, 29.28713046075022, -1.6720308512938848, 10.201472384326916, 0.4541537089075474, -26.603829226676698, 2.966456843659353, -57.053199008265246, -89.29359841404275, -108.42620292892006, 44.39595914622637, -37.283598613378786, -85.56030414182247, -64.04804900182064, -112.14064357854906, 106.61419391650898, -167.73707008986722, 163.57267968619806, -78.54708486022658, -63.361255502383464, -82.14919269185188, 1.5838541625711875, 177.38868124600023, 58.22258585487867, -1.0945395331286578, 179.47629974676923, -11.915566994125228, 5.403582624881075, -2.1862291780919665, 183.34610777540883, 33.6970643743848, 3.0821122755516455, -29.181474412171838, -192.24161409967238, -6.810107553993122, -179.18182777912205, 55.84711888308616, -40.06202262570231, 24.161589021723717, -170.50178562886117, -72.94699154239235, 73.33477619857653, 40.82507761169043, -135.58813801613454, 15.572876099451808, -92.0739651526455, 17.756933897846565, 155.83473397958002, -8.803310417672991, 125.6322246465697, 46.071113012925274, 25.744750559260975, 66.74757772148465, 5.775235164189767, 37.38746051936051, -41.71959852954458, -91.55299564845717, -168.98836275772817, -54.79654915732366, -96.34202737484253, 37.129743645340966, -35.86868230761063, 39.063273857837544, -57.27758530231612, 97.87479675400756, -55.7486771070707, -117.9289751144755, -35.327002599062354, -177.98783538849057, 67.25554218031498, -65.74774423297207, 100.66845986678662, 129.42341596393638, 19.544898431639055, 13.149398899641914, -147.63690757561932, 18.39835237542225, 27.026723610736358, -90.57348874244168, -3.8336907154195172, 83.22162316328031, 36.620444019729696, 20.031095272235195, -48.93995143197198, 159.3237258543345, -10.725179412815766, 129.5183559406182, 109.37546020458201, -178.33283770254343, 179.17155403000444, 43.87991699983165, 7.83072310162083, 8.58913932804801, -51.44689736766298, -161.18480655851533, -81.26866255742104, -9.888570040986314, -53.64315670640478, 43.87861154586865, -106.48092024877108, -35.26823291450062, -74.09088550325973, -16.29421246907673, 142.91830294440416, 69.38649170027927, -79.6164151036769, -103.99953040599428, -49.00857269327861, -64.17450560372755, 87.70553051333945, 63.236817854337495, 6.170897652415346, 1.2949654890665538, 46.989402755556576, -29.986005195791233, -29.765446937501707, 114.14262327666778, -41.98207094915505, -64.14094702692067, -66.76427510030085, 6.8589591193745925, 24.27690634183996, 71.93440658290187, 36.39934639644301, -45.851755646343854, -61.78813572184078, -123.43859817918161, -64.00545015128742, -37.72318762528694, -5.746092109238949, -61.84261911376124, 96.60351983087243, 191.55226510951653, -100.20498764896159, -8.144558040861275, -105.89405796787591, 47.14952017157648, -11.915610956564784, 17.951560710526405, -43.5008692131491, 2.8395817880352587, -98.3356245207502, -16.884014931671153, -70.17512560129926, -17.1481055586907, -17.137391958262555, -29.706026429152793, -124.72838481311835, -46.304502440459665, -31.028229084530526, -29.391123080633623, -90.51409691457985, 78.91297232349889, 105.6377029127957, 78.53023332825072, 87.3918407439415, 132.82184760955482, -47.95516694729395, -3.659846368112779, 6.041490771379108, 52.83064695638888, -20.001350240007277, 5.892349599105993, 2.2157376522474617, -157.66769234031196, -41.33833020861389, -81.33619944302755, 82.37387494358744, -116.69416735283421, 48.87046831440161, 145.59914093715156, 120.3249445101006, -31.702142513382725, 40.11287543559832, 78.00963928579999, 149.3748600180358, -43.19793804709068, -65.35635480025647, 65.94389203684699, 185.82350482544445, 125.33062828285496, 122.13183982788514, 63.94571389270945, 178.91187497403908, 80.3647191592455, 72.86569120672662, -28.438370137011866, -83.79429997202561, 4.5934649923747255, 101.15817644758728, 49.320959210910274, 65.25043205434423, 67.6105595130467, -176.37812926186157, 99.07315519592285, 194.79261500024776, -63.30838620986241, 41.27709205021873, 8.286043825936257, -26.44607316624628, -61.01147562278028, 124.89837380356119, 194.93945969874895, 9.468145369803777, 133.83732952656646, 106.56098850133401, -54.124249563612196, -2.8337786933507094, -68.96778290424449, 105.97980624762405, 15.61340848495051, 14.351225543885365, 55.523613634354994, 46.61159908059739, 96.28583883409145, -25.202225566119118, -27.691359975848012, 81.34852331090552, -22.38851838014606, -32.232944248661646, 86.84264518976747, 107.63217061163206, 99.00224096491655, 38.560947316195644, 169.84966770947756, -75.74451940856126, -24.654290807393558, 21.564389748327475, 206.97466203893265, 68.82374414348662, -49.058216867992805, 146.24190718714047, 59.212583095867174, 0.7715170999141505, -25.174466380761498, 105.0647373594449, 118.81721398019388, 102.56015443315695, -113.31449640745366, -160.6362099458915, 95.00146430107037, 62.50043724944745, 125.62453596837798, -143.21817585538258, 30.17966278059051, 76.29719760305863, -10.507318046795758, 118.08862515149696, 30.847803762424984, -93.54291614999133, 15.299361124348344, 235.27674930722233, -53.281002288848455, -29.56469700091017, -80.73622114725838, 239.08355595021564, 5.936187355159113, 40.67728382251521, 32.60771708516645, -34.52773465182392, 46.72420987519367, -9.754511364784909, -38.935122843455595, 74.2185063505405, 177.87716765413748, 163.17833328074505, -10.322607373997869, 63.292031120187275, -68.18043218912777, 103.08075797929132, 0.27592361328427034, 0.31676191995757963, -73.98971547771976, 116.41283850782129, -77.41539174106192, 44.553222561941155, -220.86621547719423, -130.90285404175157, -185.82549331265932, 46.49032216081933, -88.48246710021841, -122.20323436503142, -11.595624274119821, 68.0184317131232, 37.74819813703809, 105.28995304618292, 112.44438274140974, -207.17011306660078, 37.62333530728804, -9.266766973663202, 29.56847275021513, 107.73215730996105, 136.6928220120644, -19.191287190142607, -203.85502259887141, -255.23902450212765, 18.346298079268852, 17.526525775907057, 16.14644263146721, 78.18645366261816, 65.95487881894965, -17.96637607407491, -152.5140376960096, 17.39756170830736, -26.982528997606824, 83.55027068321579, 94.25180593941533, 36.07144820156402, -178.02286540392615, -118.8395379037904, 19.161460367271136, 54.64629376224954, -59.892034249574756, -35.96813594894241, -57.65237491672553, -116.94783808358676, -51.98203700795245, -32.17733785802531, -179.585907833453, -214.53302876325586, -34.8350482931858, 146.9498272341112, -38.98409388703818, -44.99989298751646, 33.693784322204664, 44.3573379622753, 129.37164778236013, -4.330629856305506, -75.2141972195792, -104.88747181550991, 162.15386502530583, -160.3457213146452, 64.54538153765284, 143.7549821458169, 102.74341021654283, -17.513213777014297, 181.94570603147378, -24.670534881727853, 27.901941301454425, 34.446932720701014, 177.06468215090987, -158.22964796094578, 171.3695942331934, 107.24036131769712, -5.562722720017815, -185.89454387903083, 168.22431870108264, 53.55660659340404, -55.70724227983422, 8.800449575148322, 35.78061672192997, 113.85432463569168, -76.63418839684435, -81.11762652661764, 88.13869088833928, -10.288328709767137, 136.6462812170255, 8.89665336502105, 12.739409984663967, 21.251862862520948, -162.45380733808386, 13.127024680252305, 6.031197931657832, 47.89077042955949, -196.48215026851776, -116.88372409338373, 116.67316753314176, -222.28976422169345, -69.84307412266283, 111.84200464971347, 159.06897036817335, -22.88021670784854, 96.05747694708667, -28.180288804407564, -68.57888020418511, -13.188138663186852, -16.316323180731356, -73.87718660284635, 26.477534967337398, 0.9971707556068736, 0.6765220581118266, 50.36622961292269, 84.64585560613035, 98.19882370090852, 37.161207780102885, 23.09491852949379, 67.96728393352127, -38.155554012533514, -42.29614985021147, 155.17753296378723, -11.314823981301458, 66.61644991697598, -40.5342657635268, -81.64912114429123, 16.67720724045494, 130.0718475879303, 38.21666035098218, 36.196294086844425, 12.386258742109916, -122.21648204220084, 41.223917585229856, -141.9932357403303, 60.55884104082938, -60.78512621030304, 207.18426466348748, 60.51616580576128, -153.3037134163632, 55.726016242070166, -125.12458661851365, -97.89586333349379, -44.61238460599675, -79.93314837778684, -69.33630536867445, 41.50987837295614, 106.24108075617185, 144.1017652251808, 39.02286936176011, -31.853075949083067, -116.44314659400524, -199.11009676732417, 113.21309184441279, 15.170943034670463, 61.916487011006126, 23.45444130960452, -69.43989876323057, -187.2145715794573, 20.09719326650543, 56.21789540340898, -57.16875873328773, -43.314316862348235, -131.59648125985453, 15.432715241176275, 77.3295750777968, 23.201955629734893, -110.753144404206, -11.45477878392585, 99.22870894391671, -92.9331826231728, 2.882109195504899, -48.84936144220705, 35.932947172481775, 116.47085495485561, 4.551224416507567, 99.19223285091131, -34.64594127854026, 56.09203702041077, -107.54790950295957, 154.3250427922267, 176.14907593764963, -62.125535895254146, -107.88505762698483, 74.99383503646267, 64.52151007815537, -6.532540167784641, -200.6146818159788, 53.921173436659764, -170.80946051118562, -10.662760977093239, 89.35203712872796, -165.92343408161926, 28.206822667676374, -20.930697809937048, 30.760099490948182, 92.78297268191143, -22.66639254308176, -178.4335939631093, -12.637704747845955, -37.77453837770034, 147.8615531541972, 98.6074295228546, 45.89895047073765, -61.230853817844455, 60.66649755058783, 91.47992195102391, 130.3691483236977, -91.96853658236105, -95.70386961452488, -16.74912860060447, 29.065822454554606, 42.28240317460613, -81.56669248193757, 136.30242646878642, -112.5405644032186, 60.80746204608513, 94.21069339866632, -217.14585065402736, 63.437551338122965, -100.84380244283484, 42.16816597340409, 104.55870297120683, -82.17695304866648, -37.370250850141886, 22.03915067978661, -16.719995178103513, 97.67030897309196, 36.37485830360107, -180.46685725687115, 33.74808880744356, 105.50865537264416, 119.10917199669036, 61.353269242297145, 53.01839247724385, -162.9829776621921, -5.615762429836965, 117.18767187843012, 36.591688668495806, -38.12396492352368, -47.67871359625292, -11.877145609828077, 50.269102806568, 103.52054413073057, -26.42743941038878, -55.83746828240656, -9.939034952171916, -35.32635147570509, 97.86470677796454, -121.19203415079132, -111.88237915673405, 4.455500468717122, 59.19411229377276, -101.51658501003985, 41.69669577542165, -164.7779799493527, -172.26680031354806, -175.28477778001178, 124.1256925330748, -161.0222354833155, -14.175158148745206, 82.0341947227775, -203.64627751516184, 73.65446825521843, -77.6798521814664, 67.53263751579021, -173.9585324164843, 60.27264105867997, 15.359645038407894, 56.804128193015984, -28.00300132030476, -62.44084141017853, 182.6212743741948, 201.81791343278525, -43.50761033151819, 61.13726170739654, -16.057219689338375, 9.317966175999672, 110.4642224688469, -62.09149658038287, 8.030001262543909, 46.602656328241046, -4.7940547324182905, 0.8472891034167753, -87.27613589921441, -75.589846659305, 24.773662132967633, -53.195705467848484, -181.1955693109364, -43.13077213724451, 180.98697461940174, -83.21159033640502, 120.69950867520993, -65.45971126188459, -197.29559279705413, -97.63419384730307, 115.79692091519837, 46.09398330031067, 199.9372805168308, -92.82749001223038, -110.88649071072527, -43.40766773661004, -150.98394432794538, -37.16687192465034, -25.57701982946259, -96.58084706575598, 6.919695131977579, -77.32376457210074, -16.495599616392898, 17.106665087287013, 27.707667273769463, -158.08222576634873, -40.10829023584408, 159.40132109995022, -3.5218899771643546, -202.00963004544198, -36.50491763132944, 56.90268831765715, 8.120315828711282, 21.217049988031558, -55.82429189145761, -102.58454418370052, -176.295940522632, -116.37700793396176, -187.83963080614475, 64.78007059624747, -150.83246370910615, 41.212996047063896, 83.77212627705013, -116.83069633467217, -25.36616637613908, 39.619183679370295, -55.49854576183547, 63.88243690561542, -79.62305460228109, -128.36941741315763, 79.3475923670711, 118.32607975209055, 79.90501113497372, 124.44062946042203, -65.61190261497477, 30.020158153686094, 45.29941489531874, -128.46859868996893, -53.33759824400898, -15.898321045573688, 48.74459544017722, 63.64648288418058, -94.41431061347171, 45.0212322760415, -44.311759339287036, 74.86733101087982, -39.83140185310145, -148.02134472778778, -207.51393008075286, 108.08264330857848, -78.04944988154932, -73.11335444538713, -1.6989938248917829, -25.47322824012075, -174.50743239964345, -234.68941869764237, 81.42000783134401, 94.48434073143389, -27.339514143669707, 16.185968959445045, 139.15793565323855, 102.57200695992366, -70.92701768291579, -33.34278849657696, 126.49868691366687, -286.73272659796476, 147.21214621608968, 80.8877665528971, -203.5859832999241, -78.52170124507943, -42.52485827495868, 140.76983218421552, -173.6111882019062, 108.85019115836181, -7.072023423288068, 6.510760751229007, 7.092534270697272, -12.170931617924857, -58.55293318913241, 80.12421360350996, 228.9853855098405, -124.2914076127068, 10.604354030192425, 55.001590956008776, 36.605775854640875, -142.8090378151018, 69.56070306432234, -34.55098945677455, -124.83724053754051, 239.95241342673944, 56.83313740835355, -87.2288994936367, -144.00931415841583, -30.317073721663125, -69.96879159072667, 150.63916084741066, -3.883119222092302, -148.18241055874003, 9.84775710780877, -75.54753206634355, 48.14902864314413, 185.32253377987857, 186.06578033502842, -92.79995589329071, 102.88815371681434, 112.40722334720286, -90.42800938219116, 0.7942133185065408, -85.91999366457055, 31.745401269415705, 6.789687972217226, 132.25715028769466, 96.40607450346025, 113.7991974873939, 6.483000710124899, -20.754791344079614, 161.3238947451305, 79.50411101612093, 20.689246855241723, -39.94736834626955, 161.67521986031204, 36.833525565473366, 33.567233712223135, -207.3405178224298, -14.968357248071582, 185.99775351238645, 89.58126296386659, 162.93150514805205, 123.4434245492903, 40.31130829010833, 12.23401380411371, -53.45282126528714, 102.077659681289, 72.86643877793456, 69.48991807592361, -90.11090165590221, 13.275106988473267, 185.8104304638331, -156.35068281744717, 169.68330198354784, -84.4527821090249, -200.16641811017038, 112.84364956319546, 58.7302776937275, 133.83924838080364, 16.433575024016253, 163.10813253170548, 41.5940538819651, -43.831829563691834, -170.1855281719232, -200.533880475599, 38.90439034664249, -72.92857359341465, -30.02606916783273, -115.56570665599963, -108.59105424158076, 49.65010110474983, -15.421802915199326, -104.41089609739052, -19.424839463592388, -90.80145654521237, -1.9721382588065801, 43.952583074165844, 74.95328309444493, -25.87380514007044, 21.32029223862734, -49.06588494174252, 100.93942673756248, 51.51219485746241, 4.54035317289826, 86.48852391237043, -41.06570939594625, -8.270022724256833, 44.03668510345552, 98.50570910594111, 39.49914263893357, -18.600588198941168, -202.20349546044068, 21.303088245336834, 146.47662807363332, -29.419185386690163, -82.7170550583688, -104.91496165690694, -51.8632282673053, -77.52168057830245, 125.66023968818304, 127.01928902308242, -102.43553791034341, -26.364512482374348, -27.93664330125869, 72.8159692851753, 25.281719467693218, 114.37347825152386, -34.955984546825384, 52.02342032715898, 47.7786115104253, 8.493978167110642, -13.026440927062279, -46.741611909877484, -66.13567301134557, 43.919878301163095, 17.907257882779774, -1.4353184762663087, -24.848959746464626, -192.39804339640722, 100.42652265704824, 158.2329640040974, 124.93243309780584, 88.22934751922135, -13.245934407301126, -210.37619008029648, -123.88543228282619, 8.253586970715912, -115.24024565845255, -20.780487420104727, 27.668892001813727, -39.70571327176397, -169.68066193889538, -51.575310584884626, 75.56954479872465, 17.321897956140365, 70.18596703670325, -80.39724138555252, 58.383432758494926, -38.740574886525565, -70.99576989503421, 23.70634147982309, 24.365630654211145, -204.3542489838106, 32.66980164058414, -86.46320143256824, -115.54595243742297, 69.18708777437224, 23.16514784319859, 53.776510564065475, -73.0996284900558, -9.951569217338456, -62.092009904382586, 30.642724429223353, 128.25726734471775, -75.91477660085171, 151.0953729100983, -3.708722403769499, 19.03999144754564, -34.869106183579184, 54.598598627405025, 123.95609107512105, 106.6543170814714, 18.872357422765184, 60.277702262389674, 82.3713381615295, 106.8739105454193, 118.21728922388702, 30.285371007586132, -127.31741469274539, -218.20229891153215, -12.152768675282207, -55.846544301197, -27.54641011701157, -157.29382549602514, -31.654824603721362, 46.5959025213325, 28.4738813552486, 154.1648349786267, 147.52913910076492, -180.28598992888078, 146.95577572630648, 56.49175927681854, 28.9686504503903, -75.77701381051433, 130.64547307629368, 152.88713257164224, -71.60731160672161, 126.36906229678442, 17.651520946029756, 43.559510120886635, 217.8860691737369, -98.62634629374817, -5.965296385682798, 98.64735834610923, 81.83541207305923, -40.15455398651391, -54.13818187827621, -22.51291903568179, -58.164645879677664, -27.420319481586674, 60.17295486578959, 77.26167687801097, -99.04780700274057, -29.82232687195617, -0.5187710739731106, 25.70658973004934, 104.88852246415605, 3.7047441439603723, 45.50837456460433, -32.86983955140294, 135.8357811663054, -89.57591554949957, -28.698138285895443, -131.83774879713798, 143.5430987274135, -96.47291879587993, 8.562237229474317, -17.285074330664628, -17.213278464110516, -63.06421315231857, 56.990776773496066, -14.322854176585608, 12.906228791632804, 55.762723213197376, -49.413358451165614, -107.17569461451029, 51.29346877703326, -172.61414252960688, 11.915702527203612, -39.57742658732027, -48.14939194657197, 78.81176868417302, -79.07777555309468, 43.72196520122761, -85.34993726228038, -37.240752086339505, -77.98462134988795, -19.16843033415409, -194.09890634415808, -152.68884474066047, 60.48270521002926, -161.68903060563628, 127.42269652386688, 75.67851892136146, -47.456187933156826, 68.45895353345146, -176.28458663114358, -36.85128343179314, 88.66093534736639, 14.739264477445007, 29.148043098275647, -34.33692682016305, -8.805341115107671, 11.245394452290787, -12.748875631276485, 47.111561234562494, 134.95565528003436, 3.5917314846964525, -6.047913085855779, -54.041323389327296, 1.6379481724087526, 30.962104502386943, -155.69683914374878, -122.66892564552045, 98.89087218347112, 11.257058495016132, -15.527918145991896, -75.27135733799345, 110.05755699456746, 60.026678560520594, -70.43489238308837, -61.3495016257838, 163.4860569009248, -34.506051955978116, -68.46482073451315, -228.7134364695474, 157.24198569166055, 100.16338483220058, -140.74477740636414, 190.0854425599056, -23.485100935603572, 163.06223502158286, -72.25839043206082, -126.95247327024435, -1.6207905526714055, 69.95656677763797, -246.46029794876017, -59.10088107067843, 88.96785780416887, -207.69817774784093, -103.97090061766669, 3.5109246296720613, 101.48922093189998, -40.928218059083115, -54.743818932711164, 103.42727638751208, -156.26398461163888, 121.40062500248715, 2.8682868074847865, 7.848388622534479, -81.1410346721612, -145.09304567138233, -13.253690897069232, -136.2304310320116, -27.827149547648677, 77.64806080659756, 52.174102069282455, -5.360090937706929, -200.7214492144456, 103.85516207759918, -171.04268217581773, -153.98868749025286, -96.07914375812678, 9.65262975411632, -65.40672625570488, 8.518425698576243, 81.59910679210974, -67.67796806806177, -145.66714537172234, -9.729531767605922, 61.7358813784499, -184.58820877679878, -88.37508383648778, 126.79392902239567, 192.318784268908, 201.3654327344448, 153.48378447378775, -71.39721038710752, 103.96249090434088, -146.37637315187843, -65.33558944570224, -121.05449155871554, -107.79887491286082, 65.74222886006613, 74.36573224446794, 91.95496997111921, -113.2397663105064, -72.33725264132835, -22.000698741309193, -152.0624321942167, -41.67714295865126, -95.18562346362359, -83.58171634810704, -136.2333972059675, -60.22059949923428, -185.5689780647942, 102.88353891514951, 47.177764770703305, 59.01272319627697, 5.628375536333376, -67.89953161472506, -68.2579949604115, 8.951057015317026, -126.70061223045414, -5.93503675646148, 186.26058375393427, -48.38310654169283, 16.67000640389084, -21.767422805119807, 190.38836359033724, 23.436626370456594, -148.02184983014126, -2.687753976382292, -33.09813182661946, 87.84393457715584, 86.49135385924427, 26.0079786583931, 83.70932989473738, -32.28660304818682, 109.0868238844177, 29.320084308977325, 110.07422360782883, 63.10924467713231, 15.146690968173226, -32.95774907056708, 155.23235650176537, -225.03508841162346, -85.34661793635127, 103.80231414748211, -22.829226074692603, 45.843315638142485, -22.626776606697227, -13.06443955461485, -128.65846237097583, -53.231201933299644, -15.080987537713312, 30.40345136291684, -52.977445406365504, -122.83400393790544, -30.345719188787484, -196.95774254654734, 0.9614461558531402, -81.94369471344682, 17.49205419740701, 120.11236516607711, -216.164637915979, 48.971522926992314, 146.5378509768061, 109.37924566291653, 92.77890648463422, 1.7810017664093305, 12.763789498577607, -66.13364915527815, -147.3986976601197, 88.17794815620378, 15.110236198338287, 95.82202348036418, -89.42289851806895, 7.778164361116342, -111.15646267493912, -49.1314078433474, 123.04216872788949, -97.31315241275723, 85.7114685121054, -137.3572964056119, -38.361947075660275, 168.5323485036854, 75.61551253749504, 114.57142874355186, -75.2142740094907, -193.32060822527694, 65.05478822069827, 53.372502562724556, 92.44326703270386, -52.69783772920353, -134.43108201590232, -95.70002815124309, -70.37450166698397, 83.82494763399207, 29.09900831774849, 29.768965201765624, 174.66660727530945, -79.61236043413815, -58.92332374101054, 54.46057275415662, -224.35910109676755, 149.1683460024768, -95.3409101925273, -132.704087812387]}\n",
      "{'prediction': [80.14116992660202, -141.87147402883184, 17.53571764764044, -55.07272317292556, 4.178167926712026, -48.66051455667085, -76.9273958314548, 138.6290278915488, 34.29854069258988, -46.724091276296704, -76.4433003908822, -4.92895982402721, -9.03437945883784, -17.24253860122012, -16.740328123124275, 66.1755860434453, 11.223093119835571, -16.401128731929045, 18.643566677946488, -204.23571789189992, 132.15658469830296, -16.801801932838455, -33.242764764977025, 45.309418722090356, 102.92531385091284, -74.78497457841178, 35.50191210710427, -6.338997733120814, 1.7290496836785239, -126.09547590795108, 5.183219237927839, -35.98015452263401, -175.2322367516432, 119.94071294813804, -99.94346718825219, -69.02460595542476, 156.3516569441584, -40.14127080794025, -120.45472640695886, -60.84496499865907, 88.66774330100974, -93.28592867148913, 12.947028718122642, 70.916419055853, 23.729652401052455, -103.17546187716374, -188.79875086462744, -61.06945159914848, -15.235445573704277, -122.48723175485594, -107.6866469066735, 14.947152515644657, -17.676841601284597, -22.56985775758476, -66.15108686435958, -109.90919120959312, 116.32994941475874, 40.859474685295574, -8.685460141321325, -42.58133316787715, 69.98915581595617, 81.5198386693943, 97.42750166308795, 47.520425400117475, 10.831055994248196, -24.292438191091243, 25.554051768862255, -70.4407852413878, 62.20859304574232, 14.559305785237717, 87.7082413486396, 88.78238031388882, -216.70020904822508, 2.358649370502466, 99.68617862326334, -102.94437786920675, -47.46637253604676, 58.13282700960255, -77.98169715180184, 23.710146735686738, 194.4970958682326, 61.69650869868608, -76.71727264939956, -74.75552426542168, 82.25257303008846, 153.3461945055432, 61.10006291540351, 14.941503921295872, 33.45855482690814, 84.23361921304415, -185.45625605448146, -48.96063172472811, 74.14636680323117, 248.06345921382325, 38.27756589652207, 17.48346732513033, 3.806482988427746, 117.64933424626439, -22.413510996404092, 82.68192685556134, -179.82222808213137, -24.76511226280153, 65.09865827484627, -40.390504124361804, -73.30434236832501, 59.84497490878305, 119.76901887523005, -112.66516651242644, 32.31387326013751, -54.454779519104775, 34.42258370402907, -166.04954413054608, -35.03065603585274, 69.19591811003585, 6.960313353224674, 4.58060589324213, 12.869838444770885, 225.11551574505467, 123.49533559488303, -56.91920742215747, -16.593898671086436, 167.49842096986174, -5.9961011633856565, -52.37007674861749, -42.92451430632299, -16.707479151276406, -182.70601567982095, -102.98135251401838, -125.2624275755318, 108.78311081355567, 16.212372426733623, -135.82690774324988, 16.7074928035937, 88.72492166254851, 57.05973622215842, -43.2546451349826, -45.65798372479291, -31.007472897606966, -135.43834888556782, 142.12241999622856, -64.99523664729558, 68.9957233335404, 143.36212611619075, -36.059023259766626, -29.37180617710075, 109.45513243844346, -150.9124838279436, 57.530015583646374, -25.826661114527145, -112.04603813877357, -70.63076673276655, 22.44435712662645, -2.4943460023386272, -166.06894860437032, -37.57006638524391, 23.721424510903955, -35.51237524968629, -143.43813433876315, -18.155468419721977, 112.0698822204152, 5.997750852647965, 80.53567155449701, 65.59870311093513, 15.388407312489049, -83.5690653832102, 51.6641423863412, -29.4265318051859, -72.4319193596121, -94.0545452075208, 7.953431152172959, 13.17337134575909, 39.00153745502096, -89.24972293075713, -24.782586221957217, -114.8362353356541, -117.77724286989378, 61.907377368360585, -57.92220558211768, -63.4417320504081, -160.19737840429855, 86.57176264629807, 2.278342374964626, -93.53309909456877, 155.90378430828738, 45.93126207494096, 48.103784747880546, -91.05146759953021, -2.46376220740622, -4.427622953934806, -20.462502858749744, 191.9155050385794, 17.37536113815088, 102.77549908642476, -33.27099573073042, -16.520150155951857, 105.46720150800729, 77.10211901918323, -124.84414670311546, -29.345921164573593, 11.24183588586442, 94.64213402159636, -8.245204098874108, 3.060821816380776, -170.42294050581285, 24.77092763762283, -34.42338211428861, -19.244703534335002, -97.74264353826005, -27.391523779318277, -29.820954385958213, -114.9223370281283, -13.992577057248328, 94.87466239550551, -84.71294810249525, 77.96899421814219, -82.22886899039155, 49.76602177138495, -109.72095789755811, -2.5037257031177664, 95.94013430838628, -121.1563302433647, -131.77968053486774, -207.0872199007589, -103.5398333988228, 36.05608638192406, -59.62526130234531, 139.50739089863788, -85.30819922594715, -41.648544391536, -32.93415313646981, 29.879413032024623, 116.7898527762783, 167.82824539052342, 108.01493887942156, -78.19601866673808, -12.422437952502941, -135.1346297742323, 3.0501480330482877, -64.279423053866, -132.07055606644178, 94.37504359111882, -175.5149055567457, 98.85995685896737, 4.560891543393286, -199.46999440990524, 133.2878277896363, -147.39704810562137, 75.44444976364572, 137.33562907374977, 40.097729653158005, 139.8879107919896, 76.32598902263247, -34.72595418009789, -138.51252457657478, -21.144781346975787, -63.714915423153535, -211.4318628112322, 48.16740261082491, -63.95704427534722, 3.647413654344975, -35.175845573648765, 37.47676390700578, 9.141040854896987, 28.674270338655692, -84.21574967439088, -96.2791702136139, -90.1859895477621, 192.43871992953964, -48.21537507430247, -241.5675340260793, 18.49110739277791, 93.24677026889174, -99.4980359598231, -206.76357180525756, -117.86163905547296, 97.13490778110838, -54.50510395020924, 95.52708372214673, 136.32439715272847, -122.01848396804984, 89.97518945049181, 154.2553659094168, 65.76140367812417, -85.70174067436164, 187.4736626773112, 37.589913089122085, 105.65190772821126, 5.865019759977791, 65.48128985164549, 10.571043471098767, 138.980794895609, 99.01134960194618, -122.64942410151956, 53.3932822524384, 173.25630199784428, -100.68680516417575, 14.638099931788606, 15.36580670666714, 146.87423065730783, -124.41662993765429, 75.3822065104544, -112.66477393476991, -0.6550643030624831, -32.03104227847208, 20.538055852918276, -33.03044746112892, 40.96301835042283, -25.648660710314974, 96.64295569139837, 178.32322191072075, 125.20518169617787, -153.51703423311912, -19.8436443363679, -20.454137564596152, -79.38151198384338, 48.25701545992473, 159.50635021751899, 2.919461663184731, -22.060379120968488, -193.63203568929305, 80.26484447008512, -60.327023927368394, 55.51322213369849, 56.137063375459846, 67.56867746319658, -23.29144674905076, -11.778185203144739, 24.32056682960168, -182.6390939375346, 140.83694428152356, -30.642724901538127, -14.979823000398664, -51.5343401829321, -53.582653166111285, 173.9015449960448, 158.33845026973805, 115.79116848092931, 15.246541025618324, 20.150006760504574, -44.452369849448225, 0.5995700649039575, 130.75429983036886, 46.30460303042852, -27.671392534702555, 105.55801969845247, -206.8478941055769, 89.22103831591589, -56.73812000597681, -86.25949539707112, -173.35346325661786, -53.15604538247244, 48.04676822983818, 27.605477140286972, -87.75939598761681, -39.484873273883295, 73.26833313960906, -108.78004652978831, 70.52343827895727, 43.39761794824153, -56.13005671693857, 195.54970571238823, 47.846493378063876, 22.174969495210366, -42.7722217942156, 82.76484259345385, 16.461763824433202, -26.542627551338406, -96.72238751649476, -45.20443139248907, 62.93587190865871, 96.45077139993575, -7.14393809774925, 56.56406345411245, -82.61262881101071, -5.273518205117509, 198.75388628427595, 49.34139113028258, -103.0001417810933, 18.6410334852579, -9.826272304203577, 68.00733411102333, 51.79734910982191, 36.25490296959852, -77.51315137573053, 14.654314278612794, 120.42179289738944, 3.7747700065575684, 18.616851889523765, -28.411318056390073, 168.35739079824936, 29.256495842731987, -32.93821500957121, 15.679418733353964, -164.3639954022992, 167.9320704107115, -44.37595597381284, 16.933801262614047, 49.63528378990004, -113.10710563674061, -11.32275641432051, -70.7306930836461, 66.9697466435208, -112.52260722721824, -7.920758392205711, 86.90224294732965, -59.66759517929176, -55.37142804413673, -122.81296055572383, 109.27958739375872, 75.09200845773884, 89.67158959507721, -8.05298594468906, -19.27096852808278, -1.726351657238903, 15.357165707912042, 20.422708288602067, 5.409475869489365, -63.42906796711784, -121.79068585554047, 196.8015897422903, -180.4151865976579, -44.96218664574755, -31.54877342736528, 168.02824447846447, 21.049909964929736, -8.689702418711821, 121.13635008133332, -54.6007137952013, -44.07822914965829, -160.05366261641072, 44.23439563680647, -124.14591933182436, 100.04090156391253, 93.28129811795199, 0.6301242349859599, -56.52851756789795, 15.479326394789618, 7.374983707588069, -80.95351499434908, -65.37203982229542, 7.070388201849905, -134.18035342206622, 188.55408335390715, 5.806535689281324, -36.763434059784316, -99.24929307941801, -79.58978795507176, 91.92977361975476, 2.2005751709818226, -142.88853089427894, -40.022412161455435, 224.96627970721477, 128.08507970589352, 25.33196570170687, 76.54933762904678, 199.16250440714796, -25.08736645917364, 129.67222275058404, -85.53692364482075, 34.94432013667153, 185.778631214454, 90.81996345143556, -22.783188870004793, 95.08341692435592, -36.17207026320008, -25.382560292132677, -77.93411478701418, 15.18841494367806, 1.3283868798370535, 19.149762572291216, -118.62784132230283, -21.21882019931269, -218.88546536572335, -41.919057358468216, 96.3613549405319, 77.65606709610661, -33.705393831567065, -151.394472202789, 22.672152995683682, 183.47003951857425, -93.61192104591287, -73.15797206157164, -71.50984150346957, 121.78930020389328, -1.6937376949973184, -27.477213532398565, -96.23658162835656, 47.826721499361504, -48.09636471111249, -166.2948794798051, 77.53310892701352, -66.3423550001765, -135.60033477045832, -34.297807492069076, -172.92665490317154, -63.391503936891596, -149.86364524317057, 70.89569573144598, -45.071246310965854, 5.89873124906536, -86.52525010049435, 98.62641555602477, 13.044145693259077, 17.522838807044085, 194.1244396057286, 131.52295328265896, 15.881786459217631, 39.8557176458617, 240.64522898014675, 151.05468048899436, -13.070185299906319, 14.062002982907654, -46.790577741743476, -19.142858624767488, -0.41597927872218743, -0.2238473162651109, 60.25727640461618, -178.6535245899731, -107.41108023340112, 9.314172370543671, 66.99231499232752, -180.92320811081703, 27.23962333653459, 170.38848521245075, 101.66315818581597, -118.0463549993934, 38.94542573350167, 102.21855852501614, -41.42411178415266, -36.811806717852264, 60.36829053706246, 152.34895251398473, 60.88367341183525, 103.35115888880946, -69.47461088561982, -14.65915585739475, 60.18367665315472, -68.54750902725714, 131.18075923073354, -13.279231857654555, 233.06381342635189, 98.4474321416378, -66.65416910639554, -168.02412359349958, -24.548991789789874, 24.178035909533854, -115.31744857234531, -62.389861088875904, -174.5752170142754, 9.736444943785163, -151.1607831527029, 8.419936338336639, 66.21377638410155, 90.92569651043965, -141.38770664591763, 66.2336717927173, 144.56389437752034, -77.78450077551226, 43.56498360984094, 29.106496728844377, 83.46881026799655, 202.14581610732068, 159.2070033502806, -156.91040530922328, 5.10216577004424, 35.21381924278014, -1.820914913485513, -23.89883696362539, 74.18636977482714, -36.28037145896783, -86.83240666767864, 246.89147405510982, 93.99247686574041, 89.85776238996993, -169.7528057394301, 86.7264095353768, -157.9808551081161, -87.09593954747712, -108.09991720021446, -55.228575657084704, -18.158445650844317, -4.3328519783030695, 76.9802632204432, -9.89662879381049, -11.671305947714455, -42.586320389593304, 38.6114961548183, 13.174194866840512, -85.718042716639, -150.05609239067246, -36.324227500368345, -36.44888830291697, 102.48426882264349, 17.313559823680745, 45.22160528190764, 75.1225417077861, -152.25720536676218, -169.28122742436722, -132.85052716748984, 123.80487322010566, -9.029168970250135, 13.563944128865966, 8.146354053099296, -58.9035618967522, -29.489941209266878, -79.8541507366573, -83.8965990049714, 79.70878053820749, 59.70146764025788, 64.06069634846905, 5.398321658606196, 164.73393238420908, 146.48227793505004, 37.38758934110435, 62.518506134174785, 178.61403270554, -196.65908467323706, 130.75602625919126, 9.46777628089426, -9.853515428115875, -109.91368009630261, 21.324178385204377, 21.40115811560018, -24.328387080320667, 110.38095457026436, 97.30100431969873, -81.41425167024951, 144.8074334857317, -1.5563667420520624, -165.25226099651434, -3.1041080015944407, 6.912367537176933, 21.45705015069034, 81.24985137321772, 36.90189892206381, 52.952550605761324, 173.8774326145735, 39.701002171121935, -11.58531988860451, 93.37551817412422, 135.28414589188878, -267.7215259473774, 92.98508863950826, 33.328519291599996, 110.70679461439443, -34.15768619622951, -50.469723678206144, 129.68177406241392, 107.85071580321306, 189.64615233871723, -101.9122561318414, 146.86064845172484, 140.64340935968355, -97.22586781239642, -1.828867879249396, -86.67238569985733, -61.52187783220678, -93.87230887890325, 48.906315786206754, -106.21661117014362, 118.99160031453363, 129.00596136429306, -136.2915296899779, -7.137555324177158, 167.7330492537666, 85.2136788090193, -153.2937944014487, 105.2960529670521, 57.043272648178075, 51.19832014072254, -15.547353480212632, -91.34181293570704, 227.80744805016894, 2.8138058856141437, -131.47144850951136, 139.59087160854668, -33.79170451065646, 137.96420799782362, 149.75673526429696, -59.24901242880819, -41.86032106945296, 91.34676177842391, -126.97680071263507, 18.13190605272469, -8.66992668786493, -93.89265776244221, -33.9159832736728, 83.43707054955021, 159.783331522163, 65.76600296919872, 21.88926219565458, 26.801187411269684, 92.24766451143034, 6.9161797167350025, -56.1390689823962, 19.250126199735416, 91.91331392971713, -90.89173797984637, 17.491653246836773, -61.088668049026495, -59.842545211389115, 86.11623342166719, 14.305804928367152, -2.8938981198017872, -64.61372713210099, 64.24603330951804, 122.32057099625048, -94.58997879879527, -64.72592616971454, -154.68726557484234, 22.10392838725393, -65.77032920389412, 119.58185024104012, -242.2694613911351, -131.1063645057365, -118.59324797451552, -29.78827143269687, 68.79853622089155, 36.36920212294216, -74.4874878337903, 41.69836501226694, 148.4328666874591, 149.58863449773636, 74.59365638953307, 30.994682660208777, -37.209650466709256, 115.95623349718615, 47.94579964027707, -8.42140245841133, -28.62713377515854, 22.06678432298022, -37.691780973659455, -206.0789111996898, -22.560217811148185, 34.07709873707901, 22.11885830939436, 176.29956954478746, -106.57739559564575, 41.377936922563876, 113.3264153920734, 165.99974640334165, 20.20989577661366, -49.33131244308107, 30.569343537113426, 5.178113201585828, -137.488226494895, -81.57382664254538, 82.72813742405997, 115.80653129413992, -108.36774864632241, -107.91970834213153, 37.95287209642508, -179.8806236223232, 4.6977785022734455, -91.3971635648887, 86.56353107065387, 34.01226406509187, -43.20121529465534, -178.6704276813937, 115.83733734274634, -12.562021701114581, -14.124085855703946, 103.87734196432076, 4.972076290223879, -246.92824602983555, 92.99179566639478, 69.13994782524036, 26.019605230934022, -201.71221143128776, 16.365712903473092, -118.90634141305496, 103.04474322418224, -75.6815844300606, 137.65495039687096, -26.252298806546328, 210.35429529562833, 27.31175386778968, 100.36619896386978, 250.69671312452724, 31.04219134194982, 42.21908346086824, -168.0134094800485, 0.5127311235152237, -47.94783425853802, -54.45211642981093, -74.89757842874975, 142.18469360201155, 31.801898776236047, -4.348374084339021, -16.11270841326581, 10.618797093500707, -210.38549774364955, -119.7342515391665, -52.082217896343955, 65.21162477780135, -119.09714478257753, -77.51519334669925, 39.93731797710754, -41.8022618238652, 61.97901500355058, -83.37631515450889, -11.620197761479238, 114.94760303860079, 58.815938078639256, 45.878083243294405, -196.26776015149468, -93.00299621666458, 90.1871714110103, 39.50728187810747, -91.75739970951714, -152.43651804583558, -119.38271045843827, 37.08287998040664, 29.5344244881208, 21.373134725963094, 168.90099920652676, 153.30866698221206, -3.293597390599122, -183.60867837273955, -135.55069789967635, 91.57254571238747, -14.917849290640566, -10.081170533497994, 148.98883645055656, -19.745099793321494, -75.98880395305324, -99.94220301139336, 33.63983769573999, -148.58259486150268, 141.34311141590646, -148.45632897476565, 10.795852394305616, 70.63966683714015, -2.513803260158804, -103.52974651194373, -55.79217754539261, -51.78610820320765, 203.44036344522655, -150.4127383793283, -213.6565568492627, -23.80860967866127, 118.68711303591192, 12.03767751542597, -22.819328563630133, -60.085291297213935, 201.02555749014454, 9.90214600253637, 39.714243283318744, -35.77288144257652, -15.295367336129315, 18.45192034122867, -93.94622062683419, 36.505932809404186, 22.542419688452718, 184.02778145873134, 125.77515782118302, -148.86259154517663, -102.15307315015443, -62.11635234048024, 47.23010224576969, -96.79242909717038, 38.65858741550175, 24.178172623284283, -24.289625220150686, 9.87934927775682, -61.89214006011146, -60.162293136512865, -25.634094690768947, 52.031559301319, -90.9936092561447, 35.80935488990393, 19.292506802684795, 91.83254050489884, 72.02705208156803, 39.78735850103062, 34.69542629683324, 23.607783291868813, 32.149595427435415, 23.710753548399225, 154.77191776948968, -45.14651788581465, -11.416974910374783, -113.0609350153076, 10.17781380615797, -27.897062852694084, -220.37957188142843, 124.39483275601079, 108.05496473341731, -25.689375481514368, 115.81389544982, 67.89758560947968, 102.95533212878087, 42.50533097837723, 146.97773403742593, 72.0943322071801, -51.28434736939421, -153.05016082793992, -70.02528987606149, -77.24734486931462, 38.02660401504326, 31.347814794299943, -143.62363679045012, 34.53540608370874, 29.28713046075022, -1.6720308512938848, 10.201472384326916, 0.4541537089075474, -26.603829226676698, 2.966456843659353, -57.053199008265246, -89.29359841404275, -108.42620292892006, 44.39595914622637, -37.283598613378786, -85.56030414182247, -64.04804900182064, -112.14064357854906, 106.61419391650898, -167.73707008986722, 163.57267968619806, -78.54708486022658, -63.361255502383464, -82.14919269185188, 1.5838541625711875, 177.38868124600023, 58.22258585487867, -1.0945395331286578, 179.47629974676923, -11.915566994125228, 5.403582624881075, -2.1862291780919665, 183.34610777540883, 33.6970643743848, 3.0821122755516455, -29.181474412171838, -192.24161409967238, -6.810107553993122, -179.18182777912205, 55.84711888308616, -40.06202262570231, 24.161589021723717, -170.50178562886117, -72.94699154239235, 73.33477619857653, 40.82507761169043, -135.58813801613454, 15.572876099451808, -92.0739651526455, 17.756933897846565, 155.83473397958002, -8.803310417672991, 125.6322246465697, 46.071113012925274, 25.744750559260975, 66.74757772148465, 5.775235164189767, 37.38746051936051, -41.71959852954458, -91.55299564845717, -168.98836275772817, -54.79654915732366, -96.34202737484253, 37.129743645340966, -35.86868230761063, 39.063273857837544, -57.27758530231612, 97.87479675400756, -55.7486771070707, -117.9289751144755, -35.327002599062354, -177.98783538849057, 67.25554218031498, -65.74774423297207, 100.66845986678662, 129.42341596393638, 19.544898431639055, 13.149398899641914, -147.63690757561932, 18.39835237542225, 27.026723610736358, -90.57348874244168, -3.8336907154195172, 83.22162316328031, 36.620444019729696, 20.031095272235195, -48.93995143197198, 159.3237258543345, -10.725179412815766, 129.5183559406182, 109.37546020458201, -178.33283770254343, 179.17155403000444, 43.87991699983165, 7.83072310162083, 8.58913932804801, -51.44689736766298, -161.18480655851533, -81.26866255742104, -9.888570040986314, -53.64315670640478, 43.87861154586865, -106.48092024877108, -35.26823291450062, -74.09088550325973, -16.29421246907673, 142.91830294440416, 69.38649170027927, -79.6164151036769, -103.99953040599428, -49.00857269327861, -64.17450560372755, 87.70553051333945, 63.236817854337495, 6.170897652415346, 1.2949654890665538, 46.989402755556576, -29.986005195791233, -29.765446937501707, 114.14262327666778, -41.98207094915505, -64.14094702692067, -66.76427510030085, 6.8589591193745925, 24.27690634183996, 71.93440658290187, 36.39934639644301, -45.851755646343854, -61.78813572184078, -123.43859817918161, -64.00545015128742, -37.72318762528694, -5.746092109238949, -61.84261911376124, 96.60351983087243, 191.55226510951653, -100.20498764896159, -8.144558040861275, -105.89405796787591, 47.14952017157648, -11.915610956564784, 17.951560710526405, -43.5008692131491, 2.8395817880352587, -98.3356245207502, -16.884014931671153, -70.17512560129926, -17.1481055586907, -17.137391958262555, -29.706026429152793, -124.72838481311835, -46.304502440459665, -31.028229084530526, -29.391123080633623, -90.51409691457985, 78.91297232349889, 105.6377029127957, 78.53023332825072, 87.3918407439415, 132.82184760955482, -47.95516694729395, -3.659846368112779, 6.041490771379108, 52.83064695638888, -20.001350240007277, 5.892349599105993, 2.2157376522474617, -157.66769234031196, -41.33833020861389, -81.33619944302755, 82.37387494358744, -116.69416735283421, 48.87046831440161, 145.59914093715156, 120.3249445101006, -31.702142513382725, 40.11287543559832, 78.00963928579999, 149.3748600180358, -43.19793804709068, -65.35635480025647, 65.94389203684699, 185.82350482544445, 125.33062828285496, 122.13183982788514, 63.94571389270945, 178.91187497403908, 80.3647191592455, 72.86569120672662, -28.438370137011866, -83.79429997202561, 4.5934649923747255, 101.15817644758728, 49.320959210910274, 65.25043205434423, 67.6105595130467, -176.37812926186157, 99.07315519592285, 194.79261500024776, -63.30838620986241, 41.27709205021873, 8.286043825936257, -26.44607316624628, -61.01147562278028, 124.89837380356119, 194.93945969874895, 9.468145369803777, 133.83732952656646, 106.56098850133401, -54.124249563612196, -2.8337786933507094, -68.96778290424449, 105.97980624762405, 15.61340848495051, 14.351225543885365, 55.523613634354994, 46.61159908059739, 96.28583883409145, -25.202225566119118, -27.691359975848012, 81.34852331090552, -22.38851838014606, -32.232944248661646, 86.84264518976747, 107.63217061163206, 99.00224096491655, 38.560947316195644, 169.84966770947756, -75.74451940856126, -24.654290807393558, 21.564389748327475, 206.97466203893265, 68.82374414348662, -49.058216867992805, 146.24190718714047, 59.212583095867174, 0.7715170999141505, -25.174466380761498, 105.0647373594449, 118.81721398019388, 102.56015443315695, -113.31449640745366, -160.6362099458915, 95.00146430107037, 62.50043724944745, 125.62453596837798, -143.21817585538258, 30.17966278059051, 76.29719760305863, -10.507318046795758, 118.08862515149696, 30.847803762424984, -93.54291614999133, 15.299361124348344, 235.27674930722233, -53.281002288848455, -29.56469700091017, -80.73622114725838, 239.08355595021564, 5.936187355159113, 40.67728382251521, 32.60771708516645, -34.52773465182392, 46.72420987519367, -9.754511364784909, -38.935122843455595, 74.2185063505405, 177.87716765413748, 163.17833328074505, -10.322607373997869, 63.292031120187275, -68.18043218912777, 103.08075797929132, 0.27592361328427034, 0.31676191995757963, -73.98971547771976, 116.41283850782129, -77.41539174106192, 44.553222561941155, -220.86621547719423, -130.90285404175157, -185.82549331265932, 46.49032216081933, -88.48246710021841, -122.20323436503142, -11.595624274119821, 68.0184317131232, 37.74819813703809, 105.28995304618292, 112.44438274140974, -207.17011306660078, 37.62333530728804, -9.266766973663202, 29.56847275021513, 107.73215730996105, 136.6928220120644, -19.191287190142607, -203.85502259887141, -255.23902450212765, 18.346298079268852, 17.526525775907057, 16.14644263146721, 78.18645366261816, 65.95487881894965, -17.96637607407491, -152.5140376960096, 17.39756170830736, -26.982528997606824, 83.55027068321579, 94.25180593941533, 36.07144820156402, -178.02286540392615, -118.8395379037904, 19.161460367271136, 54.64629376224954, -59.892034249574756, -35.96813594894241, -57.65237491672553, -116.94783808358676, -51.98203700795245, -32.17733785802531, -179.585907833453, -214.53302876325586, -34.8350482931858, 146.9498272341112, -38.98409388703818, -44.99989298751646, 33.693784322204664, 44.3573379622753, 129.37164778236013, -4.330629856305506, -75.2141972195792, -104.88747181550991, 162.15386502530583, -160.3457213146452, 64.54538153765284, 143.7549821458169, 102.74341021654283, -17.513213777014297, 181.94570603147378, -24.670534881727853, 27.901941301454425, 34.446932720701014, 177.06468215090987, -158.22964796094578, 171.3695942331934, 107.24036131769712, -5.562722720017815, -185.89454387903083, 168.22431870108264, 53.55660659340404, -55.70724227983422, 8.800449575148322, 35.78061672192997, 113.85432463569168, -76.63418839684435, -81.11762652661764, 88.13869088833928, -10.288328709767137, 136.6462812170255, 8.89665336502105, 12.739409984663967, 21.251862862520948, -162.45380733808386, 13.127024680252305, 6.031197931657832, 47.89077042955949, -196.48215026851776, -116.88372409338373, 116.67316753314176, -222.28976422169345, -69.84307412266283, 111.84200464971347, 159.06897036817335, -22.88021670784854, 96.05747694708667, -28.180288804407564, -68.57888020418511, -13.188138663186852, -16.316323180731356, -73.87718660284635, 26.477534967337398, 0.9971707556068736, 0.6765220581118266, 50.36622961292269, 84.64585560613035, 98.19882370090852, 37.161207780102885, 23.09491852949379, 67.96728393352127, -38.155554012533514, -42.29614985021147, 155.17753296378723, -11.314823981301458, 66.61644991697598, -40.5342657635268, -81.64912114429123, 16.67720724045494, 130.0718475879303, 38.21666035098218, 36.196294086844425, 12.386258742109916, -122.21648204220084, 41.223917585229856, -141.9932357403303, 60.55884104082938, -60.78512621030304, 207.18426466348748, 60.51616580576128, -153.3037134163632, 55.726016242070166, -125.12458661851365, -97.89586333349379, -44.61238460599675, -79.93314837778684, -69.33630536867445, 41.50987837295614, 106.24108075617185, 144.1017652251808, 39.02286936176011, -31.853075949083067, -116.44314659400524, -199.11009676732417, 113.21309184441279, 15.170943034670463, 61.916487011006126, 23.45444130960452, -69.43989876323057, -187.2145715794573, 20.09719326650543, 56.21789540340898, -57.16875873328773, -43.314316862348235, -131.59648125985453, 15.432715241176275, 77.3295750777968, 23.201955629734893, -110.753144404206, -11.45477878392585, 99.22870894391671, -92.9331826231728, 2.882109195504899, -48.84936144220705, 35.932947172481775, 116.47085495485561, 4.551224416507567, 99.19223285091131, -34.64594127854026, 56.09203702041077, -107.54790950295957, 154.3250427922267, 176.14907593764963, -62.125535895254146, -107.88505762698483, 74.99383503646267, 64.52151007815537, -6.532540167784641, -200.6146818159788, 53.921173436659764, -170.80946051118562, -10.662760977093239, 89.35203712872796, -165.92343408161926, 28.206822667676374, -20.930697809937048, 30.760099490948182, 92.78297268191143, -22.66639254308176, -178.4335939631093, -12.637704747845955, -37.77453837770034, 147.8615531541972, 98.6074295228546, 45.89895047073765, -61.230853817844455, 60.66649755058783, 91.47992195102391, 130.3691483236977, -91.96853658236105, -95.70386961452488, -16.74912860060447, 29.065822454554606, 42.28240317460613, -81.56669248193757, 136.30242646878642, -112.5405644032186, 60.80746204608513, 94.21069339866632, -217.14585065402736, 63.437551338122965, -100.84380244283484, 42.16816597340409, 104.55870297120683, -82.17695304866648, -37.370250850141886, 22.03915067978661, -16.719995178103513, 97.67030897309196, 36.37485830360107, -180.46685725687115, 33.74808880744356, 105.50865537264416, 119.10917199669036, 61.353269242297145, 53.01839247724385, -162.9829776621921, -5.615762429836965, 117.18767187843012, 36.591688668495806, -38.12396492352368, -47.67871359625292, -11.877145609828077, 50.269102806568, 103.52054413073057, -26.42743941038878, -55.83746828240656, -9.939034952171916, -35.32635147570509, 97.86470677796454, -121.19203415079132, -111.88237915673405, 4.455500468717122, 59.19411229377276, -101.51658501003985, 41.69669577542165, -164.7779799493527, -172.26680031354806, -175.28477778001178, 124.1256925330748, -161.0222354833155, -14.175158148745206, 82.0341947227775, -203.64627751516184, 73.65446825521843, -77.6798521814664, 67.53263751579021, -173.9585324164843, 60.27264105867997, 15.359645038407894, 56.804128193015984, -28.00300132030476, -62.44084141017853, 182.6212743741948, 201.81791343278525, -43.50761033151819, 61.13726170739654, -16.057219689338375, 9.317966175999672, 110.4642224688469, -62.09149658038287, 8.030001262543909, 46.602656328241046, -4.7940547324182905, 0.8472891034167753, -87.27613589921441, -75.589846659305, 24.773662132967633, -53.195705467848484, -181.1955693109364, -43.13077213724451, 180.98697461940174, -83.21159033640502, 120.69950867520993, -65.45971126188459, -197.29559279705413, -97.63419384730307, 115.79692091519837, 46.09398330031067, 199.9372805168308, -92.82749001223038, -110.88649071072527, -43.40766773661004, -150.98394432794538, -37.16687192465034, -25.57701982946259, -96.58084706575598, 6.919695131977579, -77.32376457210074, -16.495599616392898, 17.106665087287013, 27.707667273769463, -158.08222576634873, -40.10829023584408, 159.40132109995022, -3.5218899771643546, -202.00963004544198, -36.50491763132944, 56.90268831765715, 8.120315828711282, 21.217049988031558, -55.82429189145761, -102.58454418370052, -176.295940522632, -116.37700793396176, -187.83963080614475, 64.78007059624747, -150.83246370910615, 41.212996047063896, 83.77212627705013, -116.83069633467217, -25.36616637613908, 39.619183679370295, -55.49854576183547, 63.88243690561542, -79.62305460228109, -128.36941741315763, 79.3475923670711, 118.32607975209055, 79.90501113497372, 124.44062946042203, -65.61190261497477, 30.020158153686094, 45.29941489531874, -128.46859868996893, -53.33759824400898, -15.898321045573688, 48.74459544017722, 63.64648288418058, -94.41431061347171, 45.0212322760415, -44.311759339287036, 74.86733101087982, -39.83140185310145, -148.02134472778778, -207.51393008075286, 108.08264330857848, -78.04944988154932, -73.11335444538713, -1.6989938248917829, -25.47322824012075, -174.50743239964345, -234.68941869764237, 81.42000783134401, 94.48434073143389, -27.339514143669707, 16.185968959445045, 139.15793565323855, 102.57200695992366, -70.92701768291579, -33.34278849657696, 126.49868691366687, -286.73272659796476, 147.21214621608968, 80.8877665528971, -203.5859832999241, -78.52170124507943, -42.52485827495868, 140.76983218421552, -173.6111882019062, 108.85019115836181, -7.072023423288068, 6.510760751229007, 7.092534270697272, -12.170931617924857, -58.55293318913241, 80.12421360350996, 228.9853855098405, -124.2914076127068, 10.604354030192425, 55.001590956008776, 36.605775854640875, -142.8090378151018, 69.56070306432234, -34.55098945677455, -124.83724053754051, 239.95241342673944, 56.83313740835355, -87.2288994936367, -144.00931415841583, -30.317073721663125, -69.96879159072667, 150.63916084741066, -3.883119222092302, -148.18241055874003, 9.84775710780877, -75.54753206634355, 48.14902864314413, 185.32253377987857, 186.06578033502842, -92.79995589329071, 102.88815371681434, 112.40722334720286, -90.42800938219116, 0.7942133185065408, -85.91999366457055, 31.745401269415705, 6.789687972217226, 132.25715028769466, 96.40607450346025, 113.7991974873939, 6.483000710124899, -20.754791344079614, 161.3238947451305, 79.50411101612093, 20.689246855241723, -39.94736834626955, 161.67521986031204, 36.833525565473366, 33.567233712223135, -207.3405178224298, -14.968357248071582, 185.99775351238645, 89.58126296386659, 162.93150514805205, 123.4434245492903, 40.31130829010833, 12.23401380411371, -53.45282126528714, 102.077659681289, 72.86643877793456, 69.48991807592361, -90.11090165590221, 13.275106988473267, 185.8104304638331, -156.35068281744717, 169.68330198354784, -84.4527821090249, -200.16641811017038, 112.84364956319546, 58.7302776937275, 133.83924838080364, 16.433575024016253, 163.10813253170548, 41.5940538819651, -43.831829563691834, -170.1855281719232, -200.533880475599, 38.90439034664249, -72.92857359341465, -30.02606916783273, -115.56570665599963, -108.59105424158076, 49.65010110474983, -15.421802915199326, -104.41089609739052, -19.424839463592388, -90.80145654521237, -1.9721382588065801, 43.952583074165844, 74.95328309444493, -25.87380514007044, 21.32029223862734, -49.06588494174252, 100.93942673756248, 51.51219485746241, 4.54035317289826, 86.48852391237043, -41.06570939594625, -8.270022724256833, 44.03668510345552, 98.50570910594111, 39.49914263893357, -18.600588198941168, -202.20349546044068, 21.303088245336834, 146.47662807363332, -29.419185386690163, -82.7170550583688, -104.91496165690694, -51.8632282673053, -77.52168057830245, 125.66023968818304, 127.01928902308242, -102.43553791034341, -26.364512482374348, -27.93664330125869, 72.8159692851753, 25.281719467693218, 114.37347825152386, -34.955984546825384, 52.02342032715898, 47.7786115104253, 8.493978167110642, -13.026440927062279, -46.741611909877484, -66.13567301134557, 43.919878301163095, 17.907257882779774, -1.4353184762663087, -24.848959746464626, -192.39804339640722, 100.42652265704824, 158.2329640040974, 124.93243309780584, 88.22934751922135, -13.245934407301126, -210.37619008029648, -123.88543228282619, 8.253586970715912, -115.24024565845255, -20.780487420104727, 27.668892001813727, -39.70571327176397, -169.68066193889538, -51.575310584884626, 75.56954479872465, 17.321897956140365, 70.18596703670325, -80.39724138555252, 58.383432758494926, -38.740574886525565, -70.99576989503421, 23.70634147982309, 24.365630654211145, -204.3542489838106, 32.66980164058414, -86.46320143256824, -115.54595243742297, 69.18708777437224, 23.16514784319859, 53.776510564065475, -73.0996284900558, -9.951569217338456, -62.092009904382586, 30.642724429223353, 128.25726734471775, -75.91477660085171, 151.0953729100983, -3.708722403769499, 19.03999144754564, -34.869106183579184, 54.598598627405025, 123.95609107512105, 106.6543170814714, 18.872357422765184, 60.277702262389674, 82.3713381615295, 106.8739105454193, 118.21728922388702, 30.285371007586132, -127.31741469274539, -218.20229891153215, -12.152768675282207, -55.846544301197, -27.54641011701157, -157.29382549602514, -31.654824603721362, 46.5959025213325, 28.4738813552486, 154.1648349786267, 147.52913910076492, -180.28598992888078, 146.95577572630648, 56.49175927681854, 28.9686504503903, -75.77701381051433, 130.64547307629368, 152.88713257164224, -71.60731160672161, 126.36906229678442, 17.651520946029756, 43.559510120886635, 217.8860691737369, -98.62634629374817, -5.965296385682798, 98.64735834610923, 81.83541207305923, -40.15455398651391, -54.13818187827621, -22.51291903568179, -58.164645879677664, -27.420319481586674, 60.17295486578959, 77.26167687801097, -99.04780700274057, -29.82232687195617, -0.5187710739731106, 25.70658973004934, 104.88852246415605, 3.7047441439603723, 45.50837456460433, -32.86983955140294, 135.8357811663054, -89.57591554949957, -28.698138285895443, -131.83774879713798, 143.5430987274135, -96.47291879587993, 8.562237229474317, -17.285074330664628, -17.213278464110516, -63.06421315231857, 56.990776773496066, -14.322854176585608, 12.906228791632804, 55.762723213197376, -49.413358451165614, -107.17569461451029, 51.29346877703326, -172.61414252960688, 11.915702527203612, -39.57742658732027, -48.14939194657197, 78.81176868417302, -79.07777555309468, 43.72196520122761, -85.34993726228038, -37.240752086339505, -77.98462134988795, -19.16843033415409, -194.09890634415808, -152.68884474066047, 60.48270521002926, -161.68903060563628, 127.42269652386688, 75.67851892136146, -47.456187933156826, 68.45895353345146, -176.28458663114358, -36.85128343179314, 88.66093534736639, 14.739264477445007, 29.148043098275647, -34.33692682016305, -8.805341115107671, 11.245394452290787, -12.748875631276485, 47.111561234562494, 134.95565528003436, 3.5917314846964525, -6.047913085855779, -54.041323389327296, 1.6379481724087526, 30.962104502386943, -155.69683914374878, -122.66892564552045, 98.89087218347112, 11.257058495016132, -15.527918145991896, -75.27135733799345, 110.05755699456746, 60.026678560520594, -70.43489238308837, -61.3495016257838, 163.4860569009248, -34.506051955978116, -68.46482073451315, -228.7134364695474, 157.24198569166055, 100.16338483220058, -140.74477740636414, 190.0854425599056, -23.485100935603572, 163.06223502158286, -72.25839043206082, -126.95247327024435, -1.6207905526714055, 69.95656677763797, -246.46029794876017, -59.10088107067843, 88.96785780416887, -207.69817774784093, -103.97090061766669, 3.5109246296720613, 101.48922093189998, -40.928218059083115, -54.743818932711164, 103.42727638751208, -156.26398461163888, 121.40062500248715, 2.8682868074847865, 7.848388622534479, -81.1410346721612, -145.09304567138233, -13.253690897069232, -136.2304310320116, -27.827149547648677, 77.64806080659756, 52.174102069282455, -5.360090937706929, -200.7214492144456, 103.85516207759918, -171.04268217581773, -153.98868749025286, -96.07914375812678, 9.65262975411632, -65.40672625570488, 8.518425698576243, 81.59910679210974, -67.67796806806177, -145.66714537172234, -9.729531767605922, 61.7358813784499, -184.58820877679878, -88.37508383648778, 126.79392902239567, 192.318784268908, 201.3654327344448, 153.48378447378775, -71.39721038710752, 103.96249090434088, -146.37637315187843, -65.33558944570224, -121.05449155871554, -107.79887491286082, 65.74222886006613, 74.36573224446794, 91.95496997111921, -113.2397663105064, -72.33725264132835, -22.000698741309193, -152.0624321942167, -41.67714295865126, -95.18562346362359, -83.58171634810704, -136.2333972059675, -60.22059949923428, -185.5689780647942, 102.88353891514951, 47.177764770703305, 59.01272319627697, 5.628375536333376, -67.89953161472506, -68.2579949604115, 8.951057015317026, -126.70061223045414, -5.93503675646148, 186.26058375393427, -48.38310654169283, 16.67000640389084, -21.767422805119807, 190.38836359033724, 23.436626370456594, -148.02184983014126, -2.687753976382292, -33.09813182661946, 87.84393457715584, 86.49135385924427, 26.0079786583931, 83.70932989473738, -32.28660304818682, 109.0868238844177, 29.320084308977325, 110.07422360782883, 63.10924467713231, 15.146690968173226, -32.95774907056708, 155.23235650176537, -225.03508841162346, -85.34661793635127, 103.80231414748211, -22.829226074692603, 45.843315638142485, -22.626776606697227, -13.06443955461485, -128.65846237097583, -53.231201933299644, -15.080987537713312, 30.40345136291684, -52.977445406365504, -122.83400393790544, -30.345719188787484, -196.95774254654734, 0.9614461558531402, -81.94369471344682, 17.49205419740701, 120.11236516607711, -216.164637915979, 48.971522926992314, 146.5378509768061, 109.37924566291653, 92.77890648463422, 1.7810017664093305, 12.763789498577607, -66.13364915527815, -147.3986976601197, 88.17794815620378, 15.110236198338287, 95.82202348036418, -89.42289851806895, 7.778164361116342, -111.15646267493912, -49.1314078433474, 123.04216872788949, -97.31315241275723, 85.7114685121054, -137.3572964056119, -38.361947075660275, 168.5323485036854, 75.61551253749504, 114.57142874355186, -75.2142740094907, -193.32060822527694, 65.05478822069827, 53.372502562724556, 92.44326703270386, -52.69783772920353, -134.43108201590232, -95.70002815124309, -70.37450166698397, 83.82494763399207, 29.09900831774849, 29.768965201765624, 174.66660727530945, -79.61236043413815, -58.92332374101054, 54.46057275415662, -224.35910109676755, 149.1683460024768, -95.3409101925273, -132.704087812387]}\n",
      "{'prediction': [80.14116992660202, -141.87147402883184, 17.53571764764044, -55.07272317292556, 4.178167926712026, -48.66051455667085, -76.9273958314548, 138.6290278915488, 34.29854069258988, -46.724091276296704, -76.4433003908822, -4.92895982402721, -9.03437945883784, -17.24253860122012, -16.740328123124275, 66.1755860434453, 11.223093119835571, -16.401128731929045, 18.643566677946488, -204.23571789189992, 132.15658469830296, -16.801801932838455, -33.242764764977025, 45.309418722090356, 102.92531385091284, -74.78497457841178, 35.50191210710427, -6.338997733120814, 1.7290496836785239, -126.09547590795108, 5.183219237927839, -35.98015452263401, -175.2322367516432, 119.94071294813804, -99.94346718825219, -69.02460595542476, 156.3516569441584, -40.14127080794025, -120.45472640695886, -60.84496499865907, 88.66774330100974, -93.28592867148913, 12.947028718122642, 70.916419055853, 23.729652401052455, -103.17546187716374, -188.79875086462744, -61.06945159914848, -15.235445573704277, -122.48723175485594, -107.6866469066735, 14.947152515644657, -17.676841601284597, -22.56985775758476, -66.15108686435958, -109.90919120959312, 116.32994941475874, 40.859474685295574, -8.685460141321325, -42.58133316787715, 69.98915581595617, 81.5198386693943, 97.42750166308795, 47.520425400117475, 10.831055994248196, -24.292438191091243, 25.554051768862255, -70.4407852413878, 62.20859304574232, 14.559305785237717, 87.7082413486396, 88.78238031388882, -216.70020904822508, 2.358649370502466, 99.68617862326334, -102.94437786920675, -47.46637253604676, 58.13282700960255, -77.98169715180184, 23.710146735686738, 194.4970958682326, 61.69650869868608, -76.71727264939956, -74.75552426542168, 82.25257303008846, 153.3461945055432, 61.10006291540351, 14.941503921295872, 33.45855482690814, 84.23361921304415, -185.45625605448146, -48.96063172472811, 74.14636680323117, 248.06345921382325, 38.27756589652207, 17.48346732513033, 3.806482988427746, 117.64933424626439, -22.413510996404092, 82.68192685556134, -179.82222808213137, -24.76511226280153, 65.09865827484627, -40.390504124361804, -73.30434236832501, 59.84497490878305, 119.76901887523005, -112.66516651242644, 32.31387326013751, -54.454779519104775, 34.42258370402907, -166.04954413054608, -35.03065603585274, 69.19591811003585, 6.960313353224674, 4.58060589324213, 12.869838444770885, 225.11551574505467, 123.49533559488303, -56.91920742215747, -16.593898671086436, 167.49842096986174, -5.9961011633856565, -52.37007674861749, -42.92451430632299, -16.707479151276406, -182.70601567982095, -102.98135251401838, -125.2624275755318, 108.78311081355567, 16.212372426733623, -135.82690774324988, 16.7074928035937, 88.72492166254851, 57.05973622215842, -43.2546451349826, -45.65798372479291, -31.007472897606966, -135.43834888556782, 142.12241999622856, -64.99523664729558, 68.9957233335404, 143.36212611619075, -36.059023259766626, -29.37180617710075, 109.45513243844346, -150.9124838279436, 57.530015583646374, -25.826661114527145, -112.04603813877357, -70.63076673276655, 22.44435712662645, -2.4943460023386272, -166.06894860437032, -37.57006638524391, 23.721424510903955, -35.51237524968629, -143.43813433876315, -18.155468419721977, 112.0698822204152, 5.997750852647965, 80.53567155449701, 65.59870311093513, 15.388407312489049, -83.5690653832102, 51.6641423863412, -29.4265318051859, -72.4319193596121, -94.0545452075208, 7.953431152172959, 13.17337134575909, 39.00153745502096, -89.24972293075713, -24.782586221957217, -114.8362353356541, -117.77724286989378, 61.907377368360585, -57.92220558211768, -63.4417320504081, -160.19737840429855, 86.57176264629807, 2.278342374964626, -93.53309909456877, 155.90378430828738, 45.93126207494096, 48.103784747880546, -91.05146759953021, -2.46376220740622, -4.427622953934806, -20.462502858749744, 191.9155050385794, 17.37536113815088, 102.77549908642476, -33.27099573073042, -16.520150155951857, 105.46720150800729, 77.10211901918323, -124.84414670311546, -29.345921164573593, 11.24183588586442, 94.64213402159636, -8.245204098874108, 3.060821816380776, -170.42294050581285, 24.77092763762283, -34.42338211428861, -19.244703534335002, -97.74264353826005, -27.391523779318277, -29.820954385958213, -114.9223370281283, -13.992577057248328, 94.87466239550551, -84.71294810249525, 77.96899421814219, -82.22886899039155, 49.76602177138495, -109.72095789755811, -2.5037257031177664, 95.94013430838628, -121.1563302433647, -131.77968053486774, -207.0872199007589, -103.5398333988228, 36.05608638192406, -59.62526130234531, 139.50739089863788, -85.30819922594715, -41.648544391536, -32.93415313646981, 29.879413032024623, 116.7898527762783, 167.82824539052342, 108.01493887942156, -78.19601866673808, -12.422437952502941, -135.1346297742323, 3.0501480330482877, -64.279423053866, -132.07055606644178, 94.37504359111882, -175.5149055567457, 98.85995685896737, 4.560891543393286, -199.46999440990524, 133.2878277896363, -147.39704810562137, 75.44444976364572, 137.33562907374977, 40.097729653158005, 139.8879107919896, 76.32598902263247, -34.72595418009789, -138.51252457657478, -21.144781346975787, -63.714915423153535, -211.4318628112322, 48.16740261082491, -63.95704427534722, 3.647413654344975, -35.175845573648765, 37.47676390700578, 9.141040854896987, 28.674270338655692, -84.21574967439088, -96.2791702136139, -90.1859895477621, 192.43871992953964, -48.21537507430247, -241.5675340260793, 18.49110739277791, 93.24677026889174, -99.4980359598231, -206.76357180525756, -117.86163905547296, 97.13490778110838, -54.50510395020924, 95.52708372214673, 136.32439715272847, -122.01848396804984, 89.97518945049181, 154.2553659094168, 65.76140367812417, -85.70174067436164, 187.4736626773112, 37.589913089122085, 105.65190772821126, 5.865019759977791, 65.48128985164549, 10.571043471098767, 138.980794895609, 99.01134960194618, -122.64942410151956, 53.3932822524384, 173.25630199784428, -100.68680516417575, 14.638099931788606, 15.36580670666714, 146.87423065730783, -124.41662993765429, 75.3822065104544, -112.66477393476991, -0.6550643030624831, -32.03104227847208, 20.538055852918276, -33.03044746112892, 40.96301835042283, -25.648660710314974, 96.64295569139837, 178.32322191072075, 125.20518169617787, -153.51703423311912, -19.8436443363679, -20.454137564596152, -79.38151198384338, 48.25701545992473, 159.50635021751899, 2.919461663184731, -22.060379120968488, -193.63203568929305, 80.26484447008512, -60.327023927368394, 55.51322213369849, 56.137063375459846, 67.56867746319658, -23.29144674905076, -11.778185203144739, 24.32056682960168, -182.6390939375346, 140.83694428152356, -30.642724901538127, -14.979823000398664, -51.5343401829321, -53.582653166111285, 173.9015449960448, 158.33845026973805, 115.79116848092931, 15.246541025618324, 20.150006760504574, -44.452369849448225, 0.5995700649039575, 130.75429983036886, 46.30460303042852, -27.671392534702555, 105.55801969845247, -206.8478941055769, 89.22103831591589, -56.73812000597681, -86.25949539707112, -173.35346325661786, -53.15604538247244, 48.04676822983818, 27.605477140286972, -87.75939598761681, -39.484873273883295, 73.26833313960906, -108.78004652978831, 70.52343827895727, 43.39761794824153, -56.13005671693857, 195.54970571238823, 47.846493378063876, 22.174969495210366, -42.7722217942156, 82.76484259345385, 16.461763824433202, -26.542627551338406, -96.72238751649476, -45.20443139248907, 62.93587190865871, 96.45077139993575, -7.14393809774925, 56.56406345411245, -82.61262881101071, -5.273518205117509, 198.75388628427595, 49.34139113028258, -103.0001417810933, 18.6410334852579, -9.826272304203577, 68.00733411102333, 51.79734910982191, 36.25490296959852, -77.51315137573053, 14.654314278612794, 120.42179289738944, 3.7747700065575684, 18.616851889523765, -28.411318056390073, 168.35739079824936, 29.256495842731987, -32.93821500957121, 15.679418733353964, -164.3639954022992, 167.9320704107115, -44.37595597381284, 16.933801262614047, 49.63528378990004, -113.10710563674061, -11.32275641432051, -70.7306930836461, 66.9697466435208, -112.52260722721824, -7.920758392205711, 86.90224294732965, -59.66759517929176, -55.37142804413673, -122.81296055572383, 109.27958739375872, 75.09200845773884, 89.67158959507721, -8.05298594468906, -19.27096852808278, -1.726351657238903, 15.357165707912042, 20.422708288602067, 5.409475869489365, -63.42906796711784, -121.79068585554047, 196.8015897422903, -180.4151865976579, -44.96218664574755, -31.54877342736528, 168.02824447846447, 21.049909964929736, -8.689702418711821, 121.13635008133332, -54.6007137952013, -44.07822914965829, -160.05366261641072, 44.23439563680647, -124.14591933182436, 100.04090156391253, 93.28129811795199, 0.6301242349859599, -56.52851756789795, 15.479326394789618, 7.374983707588069, -80.95351499434908, -65.37203982229542, 7.070388201849905, -134.18035342206622, 188.55408335390715, 5.806535689281324, -36.763434059784316, -99.24929307941801, -79.58978795507176, 91.92977361975476, 2.2005751709818226, -142.88853089427894, -40.022412161455435, 224.96627970721477, 128.08507970589352, 25.33196570170687, 76.54933762904678, 199.16250440714796, -25.08736645917364, 129.67222275058404, -85.53692364482075, 34.94432013667153, 185.778631214454, 90.81996345143556, -22.783188870004793, 95.08341692435592, -36.17207026320008, -25.382560292132677, -77.93411478701418, 15.18841494367806, 1.3283868798370535, 19.149762572291216, -118.62784132230283, -21.21882019931269, -218.88546536572335, -41.919057358468216, 96.3613549405319, 77.65606709610661, -33.705393831567065, -151.394472202789, 22.672152995683682, 183.47003951857425, -93.61192104591287, -73.15797206157164, -71.50984150346957, 121.78930020389328, -1.6937376949973184, -27.477213532398565, -96.23658162835656, 47.826721499361504, -48.09636471111249, -166.2948794798051, 77.53310892701352, -66.3423550001765, -135.60033477045832, -34.297807492069076, -172.92665490317154, -63.391503936891596, -149.86364524317057, 70.89569573144598, -45.071246310965854, 5.89873124906536, -86.52525010049435, 98.62641555602477, 13.044145693259077, 17.522838807044085, 194.1244396057286, 131.52295328265896, 15.881786459217631, 39.8557176458617, 240.64522898014675, 151.05468048899436, -13.070185299906319, 14.062002982907654, -46.790577741743476, -19.142858624767488, -0.41597927872218743, -0.2238473162651109, 60.25727640461618, -178.6535245899731, -107.41108023340112, 9.314172370543671, 66.99231499232752, -180.92320811081703, 27.23962333653459, 170.38848521245075, 101.66315818581597, -118.0463549993934, 38.94542573350167, 102.21855852501614, -41.42411178415266, -36.811806717852264, 60.36829053706246, 152.34895251398473, 60.88367341183525, 103.35115888880946, -69.47461088561982, -14.65915585739475, 60.18367665315472, -68.54750902725714, 131.18075923073354, -13.279231857654555, 233.06381342635189, 98.4474321416378, -66.65416910639554, -168.02412359349958, -24.548991789789874, 24.178035909533854, -115.31744857234531, -62.389861088875904, -174.5752170142754, 9.736444943785163, -151.1607831527029, 8.419936338336639, 66.21377638410155, 90.92569651043965, -141.38770664591763, 66.2336717927173, 144.56389437752034, -77.78450077551226, 43.56498360984094, 29.106496728844377, 83.46881026799655, 202.14581610732068, 159.2070033502806, -156.91040530922328, 5.10216577004424, 35.21381924278014, -1.820914913485513, -23.89883696362539, 74.18636977482714, -36.28037145896783, -86.83240666767864, 246.89147405510982, 93.99247686574041, 89.85776238996993, -169.7528057394301, 86.7264095353768, -157.9808551081161, -87.09593954747712, -108.09991720021446, -55.228575657084704, -18.158445650844317, -4.3328519783030695, 76.9802632204432, -9.89662879381049, -11.671305947714455, -42.586320389593304, 38.6114961548183, 13.174194866840512, -85.718042716639, -150.05609239067246, -36.324227500368345, -36.44888830291697, 102.48426882264349, 17.313559823680745, 45.22160528190764, 75.1225417077861, -152.25720536676218, -169.28122742436722, -132.85052716748984, 123.80487322010566, -9.029168970250135, 13.563944128865966, 8.146354053099296, -58.9035618967522, -29.489941209266878, -79.8541507366573, -83.8965990049714, 79.70878053820749, 59.70146764025788, 64.06069634846905, 5.398321658606196, 164.73393238420908, 146.48227793505004, 37.38758934110435, 62.518506134174785, 178.61403270554, -196.65908467323706, 130.75602625919126, 9.46777628089426, -9.853515428115875, -109.91368009630261, 21.324178385204377, 21.40115811560018, -24.328387080320667, 110.38095457026436, 97.30100431969873, -81.41425167024951, 144.8074334857317, -1.5563667420520624, -165.25226099651434, -3.1041080015944407, 6.912367537176933, 21.45705015069034, 81.24985137321772, 36.90189892206381, 52.952550605761324, 173.8774326145735, 39.701002171121935, -11.58531988860451, 93.37551817412422, 135.28414589188878, -267.7215259473774, 92.98508863950826, 33.328519291599996, 110.70679461439443, -34.15768619622951, -50.469723678206144, 129.68177406241392, 107.85071580321306, 189.64615233871723, -101.9122561318414, 146.86064845172484, 140.64340935968355, -97.22586781239642, -1.828867879249396, -86.67238569985733, -61.52187783220678, -93.87230887890325, 48.906315786206754, -106.21661117014362, 118.99160031453363, 129.00596136429306, -136.2915296899779, -7.137555324177158, 167.7330492537666, 85.2136788090193, -153.2937944014487, 105.2960529670521, 57.043272648178075, 51.19832014072254, -15.547353480212632, -91.34181293570704, 227.80744805016894, 2.8138058856141437, -131.47144850951136, 139.59087160854668, -33.79170451065646, 137.96420799782362, 149.75673526429696, -59.24901242880819, -41.86032106945296, 91.34676177842391, -126.97680071263507, 18.13190605272469, -8.66992668786493, -93.89265776244221, -33.9159832736728, 83.43707054955021, 159.783331522163, 65.76600296919872, 21.88926219565458, 26.801187411269684, 92.24766451143034, 6.9161797167350025, -56.1390689823962, 19.250126199735416, 91.91331392971713, -90.89173797984637, 17.491653246836773, -61.088668049026495, -59.842545211389115, 86.11623342166719, 14.305804928367152, -2.8938981198017872, -64.61372713210099, 64.24603330951804, 122.32057099625048, -94.58997879879527, -64.72592616971454, -154.68726557484234, 22.10392838725393, -65.77032920389412, 119.58185024104012, -242.2694613911351, -131.1063645057365, -118.59324797451552, -29.78827143269687, 68.79853622089155, 36.36920212294216, -74.4874878337903, 41.69836501226694, 148.4328666874591, 149.58863449773636, 74.59365638953307, 30.994682660208777, -37.209650466709256, 115.95623349718615, 47.94579964027707, -8.42140245841133, -28.62713377515854, 22.06678432298022, -37.691780973659455, -206.0789111996898, -22.560217811148185, 34.07709873707901, 22.11885830939436, 176.29956954478746, -106.57739559564575, 41.377936922563876, 113.3264153920734, 165.99974640334165, 20.20989577661366, -49.33131244308107, 30.569343537113426, 5.178113201585828, -137.488226494895, -81.57382664254538, 82.72813742405997, 115.80653129413992, -108.36774864632241, -107.91970834213153, 37.95287209642508, -179.8806236223232, 4.6977785022734455, -91.3971635648887, 86.56353107065387, 34.01226406509187, -43.20121529465534, -178.6704276813937, 115.83733734274634, -12.562021701114581, -14.124085855703946, 103.87734196432076, 4.972076290223879, -246.92824602983555, 92.99179566639478, 69.13994782524036, 26.019605230934022, -201.71221143128776, 16.365712903473092, -118.90634141305496, 103.04474322418224, -75.6815844300606, 137.65495039687096, -26.252298806546328, 210.35429529562833, 27.31175386778968, 100.36619896386978, 250.69671312452724, 31.04219134194982, 42.21908346086824, -168.0134094800485, 0.5127311235152237, -47.94783425853802, -54.45211642981093, -74.89757842874975, 142.18469360201155, 31.801898776236047, -4.348374084339021, -16.11270841326581, 10.618797093500707, -210.38549774364955, -119.7342515391665, -52.082217896343955, 65.21162477780135, -119.09714478257753, -77.51519334669925, 39.93731797710754, -41.8022618238652, 61.97901500355058, -83.37631515450889, -11.620197761479238, 114.94760303860079, 58.815938078639256, 45.878083243294405, -196.26776015149468, -93.00299621666458, 90.1871714110103, 39.50728187810747, -91.75739970951714, -152.43651804583558, -119.38271045843827, 37.08287998040664, 29.5344244881208, 21.373134725963094, 168.90099920652676, 153.30866698221206, -3.293597390599122, -183.60867837273955, -135.55069789967635, 91.57254571238747, -14.917849290640566, -10.081170533497994, 148.98883645055656, -19.745099793321494, -75.98880395305324, -99.94220301139336, 33.63983769573999, -148.58259486150268, 141.34311141590646, -148.45632897476565, 10.795852394305616, 70.63966683714015, -2.513803260158804, -103.52974651194373, -55.79217754539261, -51.78610820320765, 203.44036344522655, -150.4127383793283, -213.6565568492627, -23.80860967866127, 118.68711303591192, 12.03767751542597, -22.819328563630133, -60.085291297213935, 201.02555749014454, 9.90214600253637, 39.714243283318744, -35.77288144257652, -15.295367336129315, 18.45192034122867, -93.94622062683419, 36.505932809404186, 22.542419688452718, 184.02778145873134, 125.77515782118302, -148.86259154517663, -102.15307315015443, -62.11635234048024, 47.23010224576969, -96.79242909717038, 38.65858741550175, 24.178172623284283, -24.289625220150686, 9.87934927775682, -61.89214006011146, -60.162293136512865, -25.634094690768947, 52.031559301319, -90.9936092561447, 35.80935488990393, 19.292506802684795, 91.83254050489884, 72.02705208156803, 39.78735850103062, 34.69542629683324, 23.607783291868813, 32.149595427435415, 23.710753548399225, 154.77191776948968, -45.14651788581465, -11.416974910374783, -113.0609350153076, 10.17781380615797, -27.897062852694084, -220.37957188142843, 124.39483275601079, 108.05496473341731, -25.689375481514368, 115.81389544982, 67.89758560947968, 102.95533212878087, 42.50533097837723, 146.97773403742593, 72.0943322071801, -51.28434736939421, -153.05016082793992, -70.02528987606149, -77.24734486931462, 38.02660401504326, 31.347814794299943, -143.62363679045012, 34.53540608370874, 29.28713046075022, -1.6720308512938848, 10.201472384326916, 0.4541537089075474, -26.603829226676698, 2.966456843659353, -57.053199008265246, -89.29359841404275, -108.42620292892006, 44.39595914622637, -37.283598613378786, -85.56030414182247, -64.04804900182064, -112.14064357854906, 106.61419391650898, -167.73707008986722, 163.57267968619806, -78.54708486022658, -63.361255502383464, -82.14919269185188, 1.5838541625711875, 177.38868124600023, 58.22258585487867, -1.0945395331286578, 179.47629974676923, -11.915566994125228, 5.403582624881075, -2.1862291780919665, 183.34610777540883, 33.6970643743848, 3.0821122755516455, -29.181474412171838, -192.24161409967238, -6.810107553993122, -179.18182777912205, 55.84711888308616, -40.06202262570231, 24.161589021723717, -170.50178562886117, -72.94699154239235, 73.33477619857653, 40.82507761169043, -135.58813801613454, 15.572876099451808, -92.0739651526455, 17.756933897846565, 155.83473397958002, -8.803310417672991, 125.6322246465697, 46.071113012925274, 25.744750559260975, 66.74757772148465, 5.775235164189767, 37.38746051936051, -41.71959852954458, -91.55299564845717, -168.98836275772817, -54.79654915732366, -96.34202737484253, 37.129743645340966, -35.86868230761063, 39.063273857837544, -57.27758530231612, 97.87479675400756, -55.7486771070707, -117.9289751144755, -35.327002599062354, -177.98783538849057, 67.25554218031498, -65.74774423297207, 100.66845986678662, 129.42341596393638, 19.544898431639055, 13.149398899641914, -147.63690757561932, 18.39835237542225, 27.026723610736358, -90.57348874244168, -3.8336907154195172, 83.22162316328031, 36.620444019729696, 20.031095272235195, -48.93995143197198, 159.3237258543345, -10.725179412815766, 129.5183559406182, 109.37546020458201, -178.33283770254343, 179.17155403000444, 43.87991699983165, 7.83072310162083, 8.58913932804801, -51.44689736766298, -161.18480655851533, -81.26866255742104, -9.888570040986314, -53.64315670640478, 43.87861154586865, -106.48092024877108, -35.26823291450062, -74.09088550325973, -16.29421246907673, 142.91830294440416, 69.38649170027927, -79.6164151036769, -103.99953040599428, -49.00857269327861, -64.17450560372755, 87.70553051333945, 63.236817854337495, 6.170897652415346, 1.2949654890665538, 46.989402755556576, -29.986005195791233, -29.765446937501707, 114.14262327666778, -41.98207094915505, -64.14094702692067, -66.76427510030085, 6.8589591193745925, 24.27690634183996, 71.93440658290187, 36.39934639644301, -45.851755646343854, -61.78813572184078, -123.43859817918161, -64.00545015128742, -37.72318762528694, -5.746092109238949, -61.84261911376124, 96.60351983087243, 191.55226510951653, -100.20498764896159, -8.144558040861275, -105.89405796787591, 47.14952017157648, -11.915610956564784, 17.951560710526405, -43.5008692131491, 2.8395817880352587, -98.3356245207502, -16.884014931671153, -70.17512560129926, -17.1481055586907, -17.137391958262555, -29.706026429152793, -124.72838481311835, -46.304502440459665, -31.028229084530526, -29.391123080633623, -90.51409691457985, 78.91297232349889, 105.6377029127957, 78.53023332825072, 87.3918407439415, 132.82184760955482, -47.95516694729395, -3.659846368112779, 6.041490771379108, 52.83064695638888, -20.001350240007277, 5.892349599105993, 2.2157376522474617, -157.66769234031196, -41.33833020861389, -81.33619944302755, 82.37387494358744, -116.69416735283421, 48.87046831440161, 145.59914093715156, 120.3249445101006, -31.702142513382725, 40.11287543559832, 78.00963928579999, 149.3748600180358, -43.19793804709068, -65.35635480025647, 65.94389203684699, 185.82350482544445, 125.33062828285496, 122.13183982788514, 63.94571389270945, 178.91187497403908, 80.3647191592455, 72.86569120672662, -28.438370137011866, -83.79429997202561, 4.5934649923747255, 101.15817644758728, 49.320959210910274, 65.25043205434423, 67.6105595130467, -176.37812926186157, 99.07315519592285, 194.79261500024776, -63.30838620986241, 41.27709205021873, 8.286043825936257, -26.44607316624628, -61.01147562278028, 124.89837380356119, 194.93945969874895, 9.468145369803777, 133.83732952656646, 106.56098850133401, -54.124249563612196, -2.8337786933507094, -68.96778290424449, 105.97980624762405, 15.61340848495051, 14.351225543885365, 55.523613634354994, 46.61159908059739, 96.28583883409145, -25.202225566119118, -27.691359975848012, 81.34852331090552, -22.38851838014606, -32.232944248661646, 86.84264518976747, 107.63217061163206, 99.00224096491655, 38.560947316195644, 169.84966770947756, -75.74451940856126, -24.654290807393558, 21.564389748327475, 206.97466203893265, 68.82374414348662, -49.058216867992805, 146.24190718714047, 59.212583095867174, 0.7715170999141505, -25.174466380761498, 105.0647373594449, 118.81721398019388, 102.56015443315695, -113.31449640745366, -160.6362099458915, 95.00146430107037, 62.50043724944745, 125.62453596837798, -143.21817585538258, 30.17966278059051, 76.29719760305863, -10.507318046795758, 118.08862515149696, 30.847803762424984, -93.54291614999133, 15.299361124348344, 235.27674930722233, -53.281002288848455, -29.56469700091017, -80.73622114725838, 239.08355595021564, 5.936187355159113, 40.67728382251521, 32.60771708516645, -34.52773465182392, 46.72420987519367, -9.754511364784909, -38.935122843455595, 74.2185063505405, 177.87716765413748, 163.17833328074505, -10.322607373997869, 63.292031120187275, -68.18043218912777, 103.08075797929132, 0.27592361328427034, 0.31676191995757963, -73.98971547771976, 116.41283850782129, -77.41539174106192, 44.553222561941155, -220.86621547719423, -130.90285404175157, -185.82549331265932, 46.49032216081933, -88.48246710021841, -122.20323436503142, -11.595624274119821, 68.0184317131232, 37.74819813703809, 105.28995304618292, 112.44438274140974, -207.17011306660078, 37.62333530728804, -9.266766973663202, 29.56847275021513, 107.73215730996105, 136.6928220120644, -19.191287190142607, -203.85502259887141, -255.23902450212765, 18.346298079268852, 17.526525775907057, 16.14644263146721, 78.18645366261816, 65.95487881894965, -17.96637607407491, -152.5140376960096, 17.39756170830736, -26.982528997606824, 83.55027068321579, 94.25180593941533, 36.07144820156402, -178.02286540392615, -118.8395379037904, 19.161460367271136, 54.64629376224954, -59.892034249574756, -35.96813594894241, -57.65237491672553, -116.94783808358676, -51.98203700795245, -32.17733785802531, -179.585907833453, -214.53302876325586, -34.8350482931858, 146.9498272341112, -38.98409388703818, -44.99989298751646, 33.693784322204664, 44.3573379622753, 129.37164778236013, -4.330629856305506, -75.2141972195792, -104.88747181550991, 162.15386502530583, -160.3457213146452, 64.54538153765284, 143.7549821458169, 102.74341021654283, -17.513213777014297, 181.94570603147378, -24.670534881727853, 27.901941301454425, 34.446932720701014, 177.06468215090987, -158.22964796094578, 171.3695942331934, 107.24036131769712, -5.562722720017815, -185.89454387903083, 168.22431870108264, 53.55660659340404, -55.70724227983422, 8.800449575148322, 35.78061672192997, 113.85432463569168, -76.63418839684435, -81.11762652661764, 88.13869088833928, -10.288328709767137, 136.6462812170255, 8.89665336502105, 12.739409984663967, 21.251862862520948, -162.45380733808386, 13.127024680252305, 6.031197931657832, 47.89077042955949, -196.48215026851776, -116.88372409338373, 116.67316753314176, -222.28976422169345, -69.84307412266283, 111.84200464971347, 159.06897036817335, -22.88021670784854, 96.05747694708667, -28.180288804407564, -68.57888020418511, -13.188138663186852, -16.316323180731356, -73.87718660284635, 26.477534967337398, 0.9971707556068736, 0.6765220581118266, 50.36622961292269, 84.64585560613035, 98.19882370090852, 37.161207780102885, 23.09491852949379, 67.96728393352127, -38.155554012533514, -42.29614985021147, 155.17753296378723, -11.314823981301458, 66.61644991697598, -40.5342657635268, -81.64912114429123, 16.67720724045494, 130.0718475879303, 38.21666035098218, 36.196294086844425, 12.386258742109916, -122.21648204220084, 41.223917585229856, -141.9932357403303, 60.55884104082938, -60.78512621030304, 207.18426466348748, 60.51616580576128, -153.3037134163632, 55.726016242070166, -125.12458661851365, -97.89586333349379, -44.61238460599675, -79.93314837778684, -69.33630536867445, 41.50987837295614, 106.24108075617185, 144.1017652251808, 39.02286936176011, -31.853075949083067, -116.44314659400524, -199.11009676732417, 113.21309184441279, 15.170943034670463, 61.916487011006126, 23.45444130960452, -69.43989876323057, -187.2145715794573, 20.09719326650543, 56.21789540340898, -57.16875873328773, -43.314316862348235, -131.59648125985453, 15.432715241176275, 77.3295750777968, 23.201955629734893, -110.753144404206, -11.45477878392585, 99.22870894391671, -92.9331826231728, 2.882109195504899, -48.84936144220705, 35.932947172481775, 116.47085495485561, 4.551224416507567, 99.19223285091131, -34.64594127854026, 56.09203702041077, -107.54790950295957, 154.3250427922267, 176.14907593764963, -62.125535895254146, -107.88505762698483, 74.99383503646267, 64.52151007815537, -6.532540167784641, -200.6146818159788, 53.921173436659764, -170.80946051118562, -10.662760977093239, 89.35203712872796, -165.92343408161926, 28.206822667676374, -20.930697809937048, 30.760099490948182, 92.78297268191143, -22.66639254308176, -178.4335939631093, -12.637704747845955, -37.77453837770034, 147.8615531541972, 98.6074295228546, 45.89895047073765, -61.230853817844455, 60.66649755058783, 91.47992195102391, 130.3691483236977, -91.96853658236105, -95.70386961452488, -16.74912860060447, 29.065822454554606, 42.28240317460613, -81.56669248193757, 136.30242646878642, -112.5405644032186, 60.80746204608513, 94.21069339866632, -217.14585065402736, 63.437551338122965, -100.84380244283484, 42.16816597340409, 104.55870297120683, -82.17695304866648, -37.370250850141886, 22.03915067978661, -16.719995178103513, 97.67030897309196, 36.37485830360107, -180.46685725687115, 33.74808880744356, 105.50865537264416, 119.10917199669036, 61.353269242297145, 53.01839247724385, -162.9829776621921, -5.615762429836965, 117.18767187843012, 36.591688668495806, -38.12396492352368, -47.67871359625292, -11.877145609828077, 50.269102806568, 103.52054413073057, -26.42743941038878, -55.83746828240656, -9.939034952171916, -35.32635147570509, 97.86470677796454, -121.19203415079132, -111.88237915673405, 4.455500468717122, 59.19411229377276, -101.51658501003985, 41.69669577542165, -164.7779799493527, -172.26680031354806, -175.28477778001178, 124.1256925330748, -161.0222354833155, -14.175158148745206, 82.0341947227775, -203.64627751516184, 73.65446825521843, -77.6798521814664, 67.53263751579021, -173.9585324164843, 60.27264105867997, 15.359645038407894, 56.804128193015984, -28.00300132030476, -62.44084141017853, 182.6212743741948, 201.81791343278525, -43.50761033151819, 61.13726170739654, -16.057219689338375, 9.317966175999672, 110.4642224688469, -62.09149658038287, 8.030001262543909, 46.602656328241046, -4.7940547324182905, 0.8472891034167753, -87.27613589921441, -75.589846659305, 24.773662132967633, -53.195705467848484, -181.1955693109364, -43.13077213724451, 180.98697461940174, -83.21159033640502, 120.69950867520993, -65.45971126188459, -197.29559279705413, -97.63419384730307, 115.79692091519837, 46.09398330031067, 199.9372805168308, -92.82749001223038, -110.88649071072527, -43.40766773661004, -150.98394432794538, -37.16687192465034, -25.57701982946259, -96.58084706575598, 6.919695131977579, -77.32376457210074, -16.495599616392898, 17.106665087287013, 27.707667273769463, -158.08222576634873, -40.10829023584408, 159.40132109995022, -3.5218899771643546, -202.00963004544198, -36.50491763132944, 56.90268831765715, 8.120315828711282, 21.217049988031558, -55.82429189145761, -102.58454418370052, -176.295940522632, -116.37700793396176, -187.83963080614475, 64.78007059624747, -150.83246370910615, 41.212996047063896, 83.77212627705013, -116.83069633467217, -25.36616637613908, 39.619183679370295, -55.49854576183547, 63.88243690561542, -79.62305460228109, -128.36941741315763, 79.3475923670711, 118.32607975209055, 79.90501113497372, 124.44062946042203, -65.61190261497477, 30.020158153686094, 45.29941489531874, -128.46859868996893, -53.33759824400898, -15.898321045573688, 48.74459544017722, 63.64648288418058, -94.41431061347171, 45.0212322760415, -44.311759339287036, 74.86733101087982, -39.83140185310145, -148.02134472778778, -207.51393008075286, 108.08264330857848, -78.04944988154932, -73.11335444538713, -1.6989938248917829, -25.47322824012075, -174.50743239964345, -234.68941869764237, 81.42000783134401, 94.48434073143389, -27.339514143669707, 16.185968959445045, 139.15793565323855, 102.57200695992366, -70.92701768291579, -33.34278849657696, 126.49868691366687, -286.73272659796476, 147.21214621608968, 80.8877665528971, -203.5859832999241, -78.52170124507943, -42.52485827495868, 140.76983218421552, -173.6111882019062, 108.85019115836181, -7.072023423288068, 6.510760751229007, 7.092534270697272, -12.170931617924857, -58.55293318913241, 80.12421360350996, 228.9853855098405, -124.2914076127068, 10.604354030192425, 55.001590956008776, 36.605775854640875, -142.8090378151018, 69.56070306432234, -34.55098945677455, -124.83724053754051, 239.95241342673944, 56.83313740835355, -87.2288994936367, -144.00931415841583, -30.317073721663125, -69.96879159072667, 150.63916084741066, -3.883119222092302, -148.18241055874003, 9.84775710780877, -75.54753206634355, 48.14902864314413, 185.32253377987857, 186.06578033502842, -92.79995589329071, 102.88815371681434, 112.40722334720286, -90.42800938219116, 0.7942133185065408, -85.91999366457055, 31.745401269415705, 6.789687972217226, 132.25715028769466, 96.40607450346025, 113.7991974873939, 6.483000710124899, -20.754791344079614, 161.3238947451305, 79.50411101612093, 20.689246855241723, -39.94736834626955, 161.67521986031204, 36.833525565473366, 33.567233712223135, -207.3405178224298, -14.968357248071582, 185.99775351238645, 89.58126296386659, 162.93150514805205, 123.4434245492903, 40.31130829010833, 12.23401380411371, -53.45282126528714, 102.077659681289, 72.86643877793456, 69.48991807592361, -90.11090165590221, 13.275106988473267, 185.8104304638331, -156.35068281744717, 169.68330198354784, -84.4527821090249, -200.16641811017038, 112.84364956319546, 58.7302776937275, 133.83924838080364, 16.433575024016253, 163.10813253170548, 41.5940538819651, -43.831829563691834, -170.1855281719232, -200.533880475599, 38.90439034664249, -72.92857359341465, -30.02606916783273, -115.56570665599963, -108.59105424158076, 49.65010110474983, -15.421802915199326, -104.41089609739052, -19.424839463592388, -90.80145654521237, -1.9721382588065801, 43.952583074165844, 74.95328309444493, -25.87380514007044, 21.32029223862734, -49.06588494174252, 100.93942673756248, 51.51219485746241, 4.54035317289826, 86.48852391237043, -41.06570939594625, -8.270022724256833, 44.03668510345552, 98.50570910594111, 39.49914263893357, -18.600588198941168, -202.20349546044068, 21.303088245336834, 146.47662807363332, -29.419185386690163, -82.7170550583688, -104.91496165690694, -51.8632282673053, -77.52168057830245, 125.66023968818304, 127.01928902308242, -102.43553791034341, -26.364512482374348, -27.93664330125869, 72.8159692851753, 25.281719467693218, 114.37347825152386, -34.955984546825384, 52.02342032715898, 47.7786115104253, 8.493978167110642, -13.026440927062279, -46.741611909877484, -66.13567301134557, 43.919878301163095, 17.907257882779774, -1.4353184762663087, -24.848959746464626, -192.39804339640722, 100.42652265704824, 158.2329640040974, 124.93243309780584, 88.22934751922135, -13.245934407301126, -210.37619008029648, -123.88543228282619, 8.253586970715912, -115.24024565845255, -20.780487420104727, 27.668892001813727, -39.70571327176397, -169.68066193889538, -51.575310584884626, 75.56954479872465, 17.321897956140365, 70.18596703670325, -80.39724138555252, 58.383432758494926, -38.740574886525565, -70.99576989503421, 23.70634147982309, 24.365630654211145, -204.3542489838106, 32.66980164058414, -86.46320143256824, -115.54595243742297, 69.18708777437224, 23.16514784319859, 53.776510564065475, -73.0996284900558, -9.951569217338456, -62.092009904382586, 30.642724429223353, 128.25726734471775, -75.91477660085171, 151.0953729100983, -3.708722403769499, 19.03999144754564, -34.869106183579184, 54.598598627405025, 123.95609107512105, 106.6543170814714, 18.872357422765184, 60.277702262389674, 82.3713381615295, 106.8739105454193, 118.21728922388702, 30.285371007586132, -127.31741469274539, -218.20229891153215, -12.152768675282207, -55.846544301197, -27.54641011701157, -157.29382549602514, -31.654824603721362, 46.5959025213325, 28.4738813552486, 154.1648349786267, 147.52913910076492, -180.28598992888078, 146.95577572630648, 56.49175927681854, 28.9686504503903, -75.77701381051433, 130.64547307629368, 152.88713257164224, -71.60731160672161, 126.36906229678442, 17.651520946029756, 43.559510120886635, 217.8860691737369, -98.62634629374817, -5.965296385682798, 98.64735834610923, 81.83541207305923, -40.15455398651391, -54.13818187827621, -22.51291903568179, -58.164645879677664, -27.420319481586674, 60.17295486578959, 77.26167687801097, -99.04780700274057, -29.82232687195617, -0.5187710739731106, 25.70658973004934, 104.88852246415605, 3.7047441439603723, 45.50837456460433, -32.86983955140294, 135.8357811663054, -89.57591554949957, -28.698138285895443, -131.83774879713798, 143.5430987274135, -96.47291879587993, 8.562237229474317, -17.285074330664628, -17.213278464110516, -63.06421315231857, 56.990776773496066, -14.322854176585608, 12.906228791632804, 55.762723213197376, -49.413358451165614, -107.17569461451029, 51.29346877703326, -172.61414252960688, 11.915702527203612, -39.57742658732027, -48.14939194657197, 78.81176868417302, -79.07777555309468, 43.72196520122761, -85.34993726228038, -37.240752086339505, -77.98462134988795, -19.16843033415409, -194.09890634415808, -152.68884474066047, 60.48270521002926, -161.68903060563628, 127.42269652386688, 75.67851892136146, -47.456187933156826, 68.45895353345146, -176.28458663114358, -36.85128343179314, 88.66093534736639, 14.739264477445007, 29.148043098275647, -34.33692682016305, -8.805341115107671, 11.245394452290787, -12.748875631276485, 47.111561234562494, 134.95565528003436, 3.5917314846964525, -6.047913085855779, -54.041323389327296, 1.6379481724087526, 30.962104502386943, -155.69683914374878, -122.66892564552045, 98.89087218347112, 11.257058495016132, -15.527918145991896, -75.27135733799345, 110.05755699456746, 60.026678560520594, -70.43489238308837, -61.3495016257838, 163.4860569009248, -34.506051955978116, -68.46482073451315, -228.7134364695474, 157.24198569166055, 100.16338483220058, -140.74477740636414, 190.0854425599056, -23.485100935603572, 163.06223502158286, -72.25839043206082, -126.95247327024435, -1.6207905526714055, 69.95656677763797, -246.46029794876017, -59.10088107067843, 88.96785780416887, -207.69817774784093, -103.97090061766669, 3.5109246296720613, 101.48922093189998, -40.928218059083115, -54.743818932711164, 103.42727638751208, -156.26398461163888, 121.40062500248715, 2.8682868074847865, 7.848388622534479, -81.1410346721612, -145.09304567138233, -13.253690897069232, -136.2304310320116, -27.827149547648677, 77.64806080659756, 52.174102069282455, -5.360090937706929, -200.7214492144456, 103.85516207759918, -171.04268217581773, -153.98868749025286, -96.07914375812678, 9.65262975411632, -65.40672625570488, 8.518425698576243, 81.59910679210974, -67.67796806806177, -145.66714537172234, -9.729531767605922, 61.7358813784499, -184.58820877679878, -88.37508383648778, 126.79392902239567, 192.318784268908, 201.3654327344448, 153.48378447378775, -71.39721038710752, 103.96249090434088, -146.37637315187843, -65.33558944570224, -121.05449155871554, -107.79887491286082, 65.74222886006613, 74.36573224446794, 91.95496997111921, -113.2397663105064, -72.33725264132835, -22.000698741309193, -152.0624321942167, -41.67714295865126, -95.18562346362359, -83.58171634810704, -136.2333972059675, -60.22059949923428, -185.5689780647942, 102.88353891514951, 47.177764770703305, 59.01272319627697, 5.628375536333376, -67.89953161472506, -68.2579949604115, 8.951057015317026, -126.70061223045414, -5.93503675646148, 186.26058375393427, -48.38310654169283, 16.67000640389084, -21.767422805119807, 190.38836359033724, 23.436626370456594, -148.02184983014126, -2.687753976382292, -33.09813182661946, 87.84393457715584, 86.49135385924427, 26.0079786583931, 83.70932989473738, -32.28660304818682, 109.0868238844177, 29.320084308977325, 110.07422360782883, 63.10924467713231, 15.146690968173226, -32.95774907056708, 155.23235650176537, -225.03508841162346, -85.34661793635127, 103.80231414748211, -22.829226074692603, 45.843315638142485, -22.626776606697227, -13.06443955461485, -128.65846237097583, -53.231201933299644, -15.080987537713312, 30.40345136291684, -52.977445406365504, -122.83400393790544, -30.345719188787484, -196.95774254654734, 0.9614461558531402, -81.94369471344682, 17.49205419740701, 120.11236516607711, -216.164637915979, 48.971522926992314, 146.5378509768061, 109.37924566291653, 92.77890648463422, 1.7810017664093305, 12.763789498577607, -66.13364915527815, -147.3986976601197, 88.17794815620378, 15.110236198338287, 95.82202348036418, -89.42289851806895, 7.778164361116342, -111.15646267493912, -49.1314078433474, 123.04216872788949, -97.31315241275723, 85.7114685121054, -137.3572964056119, -38.361947075660275, 168.5323485036854, 75.61551253749504, 114.57142874355186, -75.2142740094907, -193.32060822527694, 65.05478822069827, 53.372502562724556, 92.44326703270386, -52.69783772920353, -134.43108201590232, -95.70002815124309, -70.37450166698397, 83.82494763399207, 29.09900831774849, 29.768965201765624, 174.66660727530945, -79.61236043413815, -58.92332374101054, 54.46057275415662, -224.35910109676755, 149.1683460024768, -95.3409101925273, -132.704087812387]}\n",
      "{'prediction': [80.14116992660202, -141.87147402883184, 17.53571764764044, -55.07272317292556, 4.178167926712026, -48.66051455667085, -76.9273958314548, 138.6290278915488, 34.29854069258988, -46.724091276296704, -76.4433003908822, -4.92895982402721, -9.03437945883784, -17.24253860122012, -16.740328123124275, 66.1755860434453, 11.223093119835571, -16.401128731929045, 18.643566677946488, -204.23571789189992, 132.15658469830296, -16.801801932838455, -33.242764764977025, 45.309418722090356, 102.92531385091284, -74.78497457841178, 35.50191210710427, -6.338997733120814, 1.7290496836785239, -126.09547590795108, 5.183219237927839, -35.98015452263401, -175.2322367516432, 119.94071294813804, -99.94346718825219, -69.02460595542476, 156.3516569441584, -40.14127080794025, -120.45472640695886, -60.84496499865907, 88.66774330100974, -93.28592867148913, 12.947028718122642, 70.916419055853, 23.729652401052455, -103.17546187716374, -188.79875086462744, -61.06945159914848, -15.235445573704277, -122.48723175485594, -107.6866469066735, 14.947152515644657, -17.676841601284597, -22.56985775758476, -66.15108686435958, -109.90919120959312, 116.32994941475874, 40.859474685295574, -8.685460141321325, -42.58133316787715, 69.98915581595617, 81.5198386693943, 97.42750166308795, 47.520425400117475, 10.831055994248196, -24.292438191091243, 25.554051768862255, -70.4407852413878, 62.20859304574232, 14.559305785237717, 87.7082413486396, 88.78238031388882, -216.70020904822508, 2.358649370502466, 99.68617862326334, -102.94437786920675, -47.46637253604676, 58.13282700960255, -77.98169715180184, 23.710146735686738, 194.4970958682326, 61.69650869868608, -76.71727264939956, -74.75552426542168, 82.25257303008846, 153.3461945055432, 61.10006291540351, 14.941503921295872, 33.45855482690814, 84.23361921304415, -185.45625605448146, -48.96063172472811, 74.14636680323117, 248.06345921382325, 38.27756589652207, 17.48346732513033, 3.806482988427746, 117.64933424626439, -22.413510996404092, 82.68192685556134, -179.82222808213137, -24.76511226280153, 65.09865827484627, -40.390504124361804, -73.30434236832501, 59.84497490878305, 119.76901887523005, -112.66516651242644, 32.31387326013751, -54.454779519104775, 34.42258370402907, -166.04954413054608, -35.03065603585274, 69.19591811003585, 6.960313353224674, 4.58060589324213, 12.869838444770885, 225.11551574505467, 123.49533559488303, -56.91920742215747, -16.593898671086436, 167.49842096986174, -5.9961011633856565, -52.37007674861749, -42.92451430632299, -16.707479151276406, -182.70601567982095, -102.98135251401838, -125.2624275755318, 108.78311081355567, 16.212372426733623, -135.82690774324988, 16.7074928035937, 88.72492166254851, 57.05973622215842, -43.2546451349826, -45.65798372479291, -31.007472897606966, -135.43834888556782, 142.12241999622856, -64.99523664729558, 68.9957233335404, 143.36212611619075, -36.059023259766626, -29.37180617710075, 109.45513243844346, -150.9124838279436, 57.530015583646374, -25.826661114527145, -112.04603813877357, -70.63076673276655, 22.44435712662645, -2.4943460023386272, -166.06894860437032, -37.57006638524391, 23.721424510903955, -35.51237524968629, -143.43813433876315, -18.155468419721977, 112.0698822204152, 5.997750852647965, 80.53567155449701, 65.59870311093513, 15.388407312489049, -83.5690653832102, 51.6641423863412, -29.4265318051859, -72.4319193596121, -94.0545452075208, 7.953431152172959, 13.17337134575909, 39.00153745502096, -89.24972293075713, -24.782586221957217, -114.8362353356541, -117.77724286989378, 61.907377368360585, -57.92220558211768, -63.4417320504081, -160.19737840429855, 86.57176264629807, 2.278342374964626, -93.53309909456877, 155.90378430828738, 45.93126207494096, 48.103784747880546, -91.05146759953021, -2.46376220740622, -4.427622953934806, -20.462502858749744, 191.9155050385794, 17.37536113815088, 102.77549908642476, -33.27099573073042, -16.520150155951857, 105.46720150800729, 77.10211901918323, -124.84414670311546, -29.345921164573593, 11.24183588586442, 94.64213402159636, -8.245204098874108, 3.060821816380776, -170.42294050581285, 24.77092763762283, -34.42338211428861, -19.244703534335002, -97.74264353826005, -27.391523779318277, -29.820954385958213, -114.9223370281283, -13.992577057248328, 94.87466239550551, -84.71294810249525, 77.96899421814219, -82.22886899039155, 49.76602177138495, -109.72095789755811, -2.5037257031177664, 95.94013430838628, -121.1563302433647, -131.77968053486774, -207.0872199007589, -103.5398333988228, 36.05608638192406, -59.62526130234531, 139.50739089863788, -85.30819922594715, -41.648544391536, -32.93415313646981, 29.879413032024623, 116.7898527762783, 167.82824539052342, 108.01493887942156, -78.19601866673808, -12.422437952502941, -135.1346297742323, 3.0501480330482877, -64.279423053866, -132.07055606644178, 94.37504359111882, -175.5149055567457, 98.85995685896737, 4.560891543393286, -199.46999440990524, 133.2878277896363, -147.39704810562137, 75.44444976364572, 137.33562907374977, 40.097729653158005, 139.8879107919896, 76.32598902263247, -34.72595418009789, -138.51252457657478, -21.144781346975787, -63.714915423153535, -211.4318628112322, 48.16740261082491, -63.95704427534722, 3.647413654344975, -35.175845573648765, 37.47676390700578, 9.141040854896987, 28.674270338655692, -84.21574967439088, -96.2791702136139, -90.1859895477621, 192.43871992953964, -48.21537507430247, -241.5675340260793, 18.49110739277791, 93.24677026889174, -99.4980359598231, -206.76357180525756, -117.86163905547296, 97.13490778110838, -54.50510395020924, 95.52708372214673, 136.32439715272847, -122.01848396804984, 89.97518945049181, 154.2553659094168, 65.76140367812417, -85.70174067436164, 187.4736626773112, 37.589913089122085, 105.65190772821126, 5.865019759977791, 65.48128985164549, 10.571043471098767, 138.980794895609, 99.01134960194618, -122.64942410151956, 53.3932822524384, 173.25630199784428, -100.68680516417575, 14.638099931788606, 15.36580670666714, 146.87423065730783, -124.41662993765429, 75.3822065104544, -112.66477393476991, -0.6550643030624831, -32.03104227847208, 20.538055852918276, -33.03044746112892, 40.96301835042283, -25.648660710314974, 96.64295569139837, 178.32322191072075, 125.20518169617787, -153.51703423311912, -19.8436443363679, -20.454137564596152, -79.38151198384338, 48.25701545992473, 159.50635021751899, 2.919461663184731, -22.060379120968488, -193.63203568929305, 80.26484447008512, -60.327023927368394, 55.51322213369849, 56.137063375459846, 67.56867746319658, -23.29144674905076, -11.778185203144739, 24.32056682960168, -182.6390939375346, 140.83694428152356, -30.642724901538127, -14.979823000398664, -51.5343401829321, -53.582653166111285, 173.9015449960448, 158.33845026973805, 115.79116848092931, 15.246541025618324, 20.150006760504574, -44.452369849448225, 0.5995700649039575, 130.75429983036886, 46.30460303042852, -27.671392534702555, 105.55801969845247, -206.8478941055769, 89.22103831591589, -56.73812000597681, -86.25949539707112, -173.35346325661786, -53.15604538247244, 48.04676822983818, 27.605477140286972, -87.75939598761681, -39.484873273883295, 73.26833313960906, -108.78004652978831, 70.52343827895727, 43.39761794824153, -56.13005671693857, 195.54970571238823, 47.846493378063876, 22.174969495210366, -42.7722217942156, 82.76484259345385, 16.461763824433202, -26.542627551338406, -96.72238751649476, -45.20443139248907, 62.93587190865871, 96.45077139993575, -7.14393809774925, 56.56406345411245, -82.61262881101071, -5.273518205117509, 198.75388628427595, 49.34139113028258, -103.0001417810933, 18.6410334852579, -9.826272304203577, 68.00733411102333, 51.79734910982191, 36.25490296959852, -77.51315137573053, 14.654314278612794, 120.42179289738944, 3.7747700065575684, 18.616851889523765, -28.411318056390073, 168.35739079824936, 29.256495842731987, -32.93821500957121, 15.679418733353964, -164.3639954022992, 167.9320704107115, -44.37595597381284, 16.933801262614047, 49.63528378990004, -113.10710563674061, -11.32275641432051, -70.7306930836461, 66.9697466435208, -112.52260722721824, -7.920758392205711, 86.90224294732965, -59.66759517929176, -55.37142804413673, -122.81296055572383, 109.27958739375872, 75.09200845773884, 89.67158959507721, -8.05298594468906, -19.27096852808278, -1.726351657238903, 15.357165707912042, 20.422708288602067, 5.409475869489365, -63.42906796711784, -121.79068585554047, 196.8015897422903, -180.4151865976579, -44.96218664574755, -31.54877342736528, 168.02824447846447, 21.049909964929736, -8.689702418711821, 121.13635008133332, -54.6007137952013, -44.07822914965829, -160.05366261641072, 44.23439563680647, -124.14591933182436, 100.04090156391253, 93.28129811795199, 0.6301242349859599, -56.52851756789795, 15.479326394789618, 7.374983707588069, -80.95351499434908, -65.37203982229542, 7.070388201849905, -134.18035342206622, 188.55408335390715, 5.806535689281324, -36.763434059784316, -99.24929307941801, -79.58978795507176, 91.92977361975476, 2.2005751709818226, -142.88853089427894, -40.022412161455435, 224.96627970721477, 128.08507970589352, 25.33196570170687, 76.54933762904678, 199.16250440714796, -25.08736645917364, 129.67222275058404, -85.53692364482075, 34.94432013667153, 185.778631214454, 90.81996345143556, -22.783188870004793, 95.08341692435592, -36.17207026320008, -25.382560292132677, -77.93411478701418, 15.18841494367806, 1.3283868798370535, 19.149762572291216, -118.62784132230283, -21.21882019931269, -218.88546536572335, -41.919057358468216, 96.3613549405319, 77.65606709610661, -33.705393831567065, -151.394472202789, 22.672152995683682, 183.47003951857425, -93.61192104591287, -73.15797206157164, -71.50984150346957, 121.78930020389328, -1.6937376949973184, -27.477213532398565, -96.23658162835656, 47.826721499361504, -48.09636471111249, -166.2948794798051, 77.53310892701352, -66.3423550001765, -135.60033477045832, -34.297807492069076, -172.92665490317154, -63.391503936891596, -149.86364524317057, 70.89569573144598, -45.071246310965854, 5.89873124906536, -86.52525010049435, 98.62641555602477, 13.044145693259077, 17.522838807044085, 194.1244396057286, 131.52295328265896, 15.881786459217631, 39.8557176458617, 240.64522898014675, 151.05468048899436, -13.070185299906319, 14.062002982907654, -46.790577741743476, -19.142858624767488, -0.41597927872218743, -0.2238473162651109, 60.25727640461618, -178.6535245899731, -107.41108023340112, 9.314172370543671, 66.99231499232752, -180.92320811081703, 27.23962333653459, 170.38848521245075, 101.66315818581597, -118.0463549993934, 38.94542573350167, 102.21855852501614, -41.42411178415266, -36.811806717852264, 60.36829053706246, 152.34895251398473, 60.88367341183525, 103.35115888880946, -69.47461088561982, -14.65915585739475, 60.18367665315472, -68.54750902725714, 131.18075923073354, -13.279231857654555, 233.06381342635189, 98.4474321416378, -66.65416910639554, -168.02412359349958, -24.548991789789874, 24.178035909533854, -115.31744857234531, -62.389861088875904, -174.5752170142754, 9.736444943785163, -151.1607831527029, 8.419936338336639, 66.21377638410155, 90.92569651043965, -141.38770664591763, 66.2336717927173, 144.56389437752034, -77.78450077551226, 43.56498360984094, 29.106496728844377, 83.46881026799655, 202.14581610732068, 159.2070033502806, -156.91040530922328, 5.10216577004424, 35.21381924278014, -1.820914913485513, -23.89883696362539, 74.18636977482714, -36.28037145896783, -86.83240666767864, 246.89147405510982, 93.99247686574041, 89.85776238996993, -169.7528057394301, 86.7264095353768, -157.9808551081161, -87.09593954747712, -108.09991720021446, -55.228575657084704, -18.158445650844317, -4.3328519783030695, 76.9802632204432, -9.89662879381049, -11.671305947714455, -42.586320389593304, 38.6114961548183, 13.174194866840512, -85.718042716639, -150.05609239067246, -36.324227500368345, -36.44888830291697, 102.48426882264349, 17.313559823680745, 45.22160528190764, 75.1225417077861, -152.25720536676218, -169.28122742436722, -132.85052716748984, 123.80487322010566, -9.029168970250135, 13.563944128865966, 8.146354053099296, -58.9035618967522, -29.489941209266878, -79.8541507366573, -83.8965990049714, 79.70878053820749, 59.70146764025788, 64.06069634846905, 5.398321658606196, 164.73393238420908, 146.48227793505004, 37.38758934110435, 62.518506134174785, 178.61403270554, -196.65908467323706, 130.75602625919126, 9.46777628089426, -9.853515428115875, -109.91368009630261, 21.324178385204377, 21.40115811560018, -24.328387080320667, 110.38095457026436, 97.30100431969873, -81.41425167024951, 144.8074334857317, -1.5563667420520624, -165.25226099651434, -3.1041080015944407, 6.912367537176933, 21.45705015069034, 81.24985137321772, 36.90189892206381, 52.952550605761324, 173.8774326145735, 39.701002171121935, -11.58531988860451, 93.37551817412422, 135.28414589188878, -267.7215259473774, 92.98508863950826, 33.328519291599996, 110.70679461439443, -34.15768619622951, -50.469723678206144, 129.68177406241392, 107.85071580321306, 189.64615233871723, -101.9122561318414, 146.86064845172484, 140.64340935968355, -97.22586781239642, -1.828867879249396, -86.67238569985733, -61.52187783220678, -93.87230887890325, 48.906315786206754, -106.21661117014362, 118.99160031453363, 129.00596136429306, -136.2915296899779, -7.137555324177158, 167.7330492537666, 85.2136788090193, -153.2937944014487, 105.2960529670521, 57.043272648178075, 51.19832014072254, -15.547353480212632, -91.34181293570704, 227.80744805016894, 2.8138058856141437, -131.47144850951136, 139.59087160854668, -33.79170451065646, 137.96420799782362, 149.75673526429696, -59.24901242880819, -41.86032106945296, 91.34676177842391, -126.97680071263507, 18.13190605272469, -8.66992668786493, -93.89265776244221, -33.9159832736728, 83.43707054955021, 159.783331522163, 65.76600296919872, 21.88926219565458, 26.801187411269684, 92.24766451143034, 6.9161797167350025, -56.1390689823962, 19.250126199735416, 91.91331392971713, -90.89173797984637, 17.491653246836773, -61.088668049026495, -59.842545211389115, 86.11623342166719, 14.305804928367152, -2.8938981198017872, -64.61372713210099, 64.24603330951804, 122.32057099625048, -94.58997879879527, -64.72592616971454, -154.68726557484234, 22.10392838725393, -65.77032920389412, 119.58185024104012, -242.2694613911351, -131.1063645057365, -118.59324797451552, -29.78827143269687, 68.79853622089155, 36.36920212294216, -74.4874878337903, 41.69836501226694, 148.4328666874591, 149.58863449773636, 74.59365638953307, 30.994682660208777, -37.209650466709256, 115.95623349718615, 47.94579964027707, -8.42140245841133, -28.62713377515854, 22.06678432298022, -37.691780973659455, -206.0789111996898, -22.560217811148185, 34.07709873707901, 22.11885830939436, 176.29956954478746, -106.57739559564575, 41.377936922563876, 113.3264153920734, 165.99974640334165, 20.20989577661366, -49.33131244308107, 30.569343537113426, 5.178113201585828, -137.488226494895, -81.57382664254538, 82.72813742405997, 115.80653129413992, -108.36774864632241, -107.91970834213153, 37.95287209642508, -179.8806236223232, 4.6977785022734455, -91.3971635648887, 86.56353107065387, 34.01226406509187, -43.20121529465534, -178.6704276813937, 115.83733734274634, -12.562021701114581, -14.124085855703946, 103.87734196432076, 4.972076290223879, -246.92824602983555, 92.99179566639478, 69.13994782524036, 26.019605230934022, -201.71221143128776, 16.365712903473092, -118.90634141305496, 103.04474322418224, -75.6815844300606, 137.65495039687096, -26.252298806546328, 210.35429529562833, 27.31175386778968, 100.36619896386978, 250.69671312452724, 31.04219134194982, 42.21908346086824, -168.0134094800485, 0.5127311235152237, -47.94783425853802, -54.45211642981093, -74.89757842874975, 142.18469360201155, 31.801898776236047, -4.348374084339021, -16.11270841326581, 10.618797093500707, -210.38549774364955, -119.7342515391665, -52.082217896343955, 65.21162477780135, -119.09714478257753, -77.51519334669925, 39.93731797710754, -41.8022618238652, 61.97901500355058, -83.37631515450889, -11.620197761479238, 114.94760303860079, 58.815938078639256, 45.878083243294405, -196.26776015149468, -93.00299621666458, 90.1871714110103, 39.50728187810747, -91.75739970951714, -152.43651804583558, -119.38271045843827, 37.08287998040664, 29.5344244881208, 21.373134725963094, 168.90099920652676, 153.30866698221206, -3.293597390599122, -183.60867837273955, -135.55069789967635, 91.57254571238747, -14.917849290640566, -10.081170533497994, 148.98883645055656, -19.745099793321494, -75.98880395305324, -99.94220301139336, 33.63983769573999, -148.58259486150268, 141.34311141590646, -148.45632897476565, 10.795852394305616, 70.63966683714015, -2.513803260158804, -103.52974651194373, -55.79217754539261, -51.78610820320765, 203.44036344522655, -150.4127383793283, -213.6565568492627, -23.80860967866127, 118.68711303591192, 12.03767751542597, -22.819328563630133, -60.085291297213935, 201.02555749014454, 9.90214600253637, 39.714243283318744, -35.77288144257652, -15.295367336129315, 18.45192034122867, -93.94622062683419, 36.505932809404186, 22.542419688452718, 184.02778145873134, 125.77515782118302, -148.86259154517663, -102.15307315015443, -62.11635234048024, 47.23010224576969, -96.79242909717038, 38.65858741550175, 24.178172623284283, -24.289625220150686, 9.87934927775682, -61.89214006011146, -60.162293136512865, -25.634094690768947, 52.031559301319, -90.9936092561447, 35.80935488990393, 19.292506802684795, 91.83254050489884, 72.02705208156803, 39.78735850103062, 34.69542629683324, 23.607783291868813, 32.149595427435415, 23.710753548399225, 154.77191776948968, -45.14651788581465, -11.416974910374783, -113.0609350153076, 10.17781380615797, -27.897062852694084, -220.37957188142843, 124.39483275601079, 108.05496473341731, -25.689375481514368, 115.81389544982, 67.89758560947968, 102.95533212878087, 42.50533097837723, 146.97773403742593, 72.0943322071801, -51.28434736939421, -153.05016082793992, -70.02528987606149, -77.24734486931462, 38.02660401504326, 31.347814794299943, -143.62363679045012, 34.53540608370874, 29.28713046075022, -1.6720308512938848, 10.201472384326916, 0.4541537089075474, -26.603829226676698, 2.966456843659353, -57.053199008265246, -89.29359841404275, -108.42620292892006, 44.39595914622637, -37.283598613378786, -85.56030414182247, -64.04804900182064, -112.14064357854906, 106.61419391650898, -167.73707008986722, 163.57267968619806, -78.54708486022658, -63.361255502383464, -82.14919269185188, 1.5838541625711875, 177.38868124600023, 58.22258585487867, -1.0945395331286578, 179.47629974676923, -11.915566994125228, 5.403582624881075, -2.1862291780919665, 183.34610777540883, 33.6970643743848, 3.0821122755516455, -29.181474412171838, -192.24161409967238, -6.810107553993122, -179.18182777912205, 55.84711888308616, -40.06202262570231, 24.161589021723717, -170.50178562886117, -72.94699154239235, 73.33477619857653, 40.82507761169043, -135.58813801613454, 15.572876099451808, -92.0739651526455, 17.756933897846565, 155.83473397958002, -8.803310417672991, 125.6322246465697, 46.071113012925274, 25.744750559260975, 66.74757772148465, 5.775235164189767, 37.38746051936051, -41.71959852954458, -91.55299564845717, -168.98836275772817, -54.79654915732366, -96.34202737484253, 37.129743645340966, -35.86868230761063, 39.063273857837544, -57.27758530231612, 97.87479675400756, -55.7486771070707, -117.9289751144755, -35.327002599062354, -177.98783538849057, 67.25554218031498, -65.74774423297207, 100.66845986678662, 129.42341596393638, 19.544898431639055, 13.149398899641914, -147.63690757561932, 18.39835237542225, 27.026723610736358, -90.57348874244168, -3.8336907154195172, 83.22162316328031, 36.620444019729696, 20.031095272235195, -48.93995143197198, 159.3237258543345, -10.725179412815766, 129.5183559406182, 109.37546020458201, -178.33283770254343, 179.17155403000444, 43.87991699983165, 7.83072310162083, 8.58913932804801, -51.44689736766298, -161.18480655851533, -81.26866255742104, -9.888570040986314, -53.64315670640478, 43.87861154586865, -106.48092024877108, -35.26823291450062, -74.09088550325973, -16.29421246907673, 142.91830294440416, 69.38649170027927, -79.6164151036769, -103.99953040599428, -49.00857269327861, -64.17450560372755, 87.70553051333945, 63.236817854337495, 6.170897652415346, 1.2949654890665538, 46.989402755556576, -29.986005195791233, -29.765446937501707, 114.14262327666778, -41.98207094915505, -64.14094702692067, -66.76427510030085, 6.8589591193745925, 24.27690634183996, 71.93440658290187, 36.39934639644301, -45.851755646343854, -61.78813572184078, -123.43859817918161, -64.00545015128742, -37.72318762528694, -5.746092109238949, -61.84261911376124, 96.60351983087243, 191.55226510951653, -100.20498764896159, -8.144558040861275, -105.89405796787591, 47.14952017157648, -11.915610956564784, 17.951560710526405, -43.5008692131491, 2.8395817880352587, -98.3356245207502, -16.884014931671153, -70.17512560129926, -17.1481055586907, -17.137391958262555, -29.706026429152793, -124.72838481311835, -46.304502440459665, -31.028229084530526, -29.391123080633623, -90.51409691457985, 78.91297232349889, 105.6377029127957, 78.53023332825072, 87.3918407439415, 132.82184760955482, -47.95516694729395, -3.659846368112779, 6.041490771379108, 52.83064695638888, -20.001350240007277, 5.892349599105993, 2.2157376522474617, -157.66769234031196, -41.33833020861389, -81.33619944302755, 82.37387494358744, -116.69416735283421, 48.87046831440161, 145.59914093715156, 120.3249445101006, -31.702142513382725, 40.11287543559832, 78.00963928579999, 149.3748600180358, -43.19793804709068, -65.35635480025647, 65.94389203684699, 185.82350482544445, 125.33062828285496, 122.13183982788514, 63.94571389270945, 178.91187497403908, 80.3647191592455, 72.86569120672662, -28.438370137011866, -83.79429997202561, 4.5934649923747255, 101.15817644758728, 49.320959210910274, 65.25043205434423, 67.6105595130467, -176.37812926186157, 99.07315519592285, 194.79261500024776, -63.30838620986241, 41.27709205021873, 8.286043825936257, -26.44607316624628, -61.01147562278028, 124.89837380356119, 194.93945969874895, 9.468145369803777, 133.83732952656646, 106.56098850133401, -54.124249563612196, -2.8337786933507094, -68.96778290424449, 105.97980624762405, 15.61340848495051, 14.351225543885365, 55.523613634354994, 46.61159908059739, 96.28583883409145, -25.202225566119118, -27.691359975848012, 81.34852331090552, -22.38851838014606, -32.232944248661646, 86.84264518976747, 107.63217061163206, 99.00224096491655, 38.560947316195644, 169.84966770947756, -75.74451940856126, -24.654290807393558, 21.564389748327475, 206.97466203893265, 68.82374414348662, -49.058216867992805, 146.24190718714047, 59.212583095867174, 0.7715170999141505, -25.174466380761498, 105.0647373594449, 118.81721398019388, 102.56015443315695, -113.31449640745366, -160.6362099458915, 95.00146430107037, 62.50043724944745, 125.62453596837798, -143.21817585538258, 30.17966278059051, 76.29719760305863, -10.507318046795758, 118.08862515149696, 30.847803762424984, -93.54291614999133, 15.299361124348344, 235.27674930722233, -53.281002288848455, -29.56469700091017, -80.73622114725838, 239.08355595021564, 5.936187355159113, 40.67728382251521, 32.60771708516645, -34.52773465182392, 46.72420987519367, -9.754511364784909, -38.935122843455595, 74.2185063505405, 177.87716765413748, 163.17833328074505, -10.322607373997869, 63.292031120187275, -68.18043218912777, 103.08075797929132, 0.27592361328427034, 0.31676191995757963, -73.98971547771976, 116.41283850782129, -77.41539174106192, 44.553222561941155, -220.86621547719423, -130.90285404175157, -185.82549331265932, 46.49032216081933, -88.48246710021841, -122.20323436503142, -11.595624274119821, 68.0184317131232, 37.74819813703809, 105.28995304618292, 112.44438274140974, -207.17011306660078, 37.62333530728804, -9.266766973663202, 29.56847275021513, 107.73215730996105, 136.6928220120644, -19.191287190142607, -203.85502259887141, -255.23902450212765, 18.346298079268852, 17.526525775907057, 16.14644263146721, 78.18645366261816, 65.95487881894965, -17.96637607407491, -152.5140376960096, 17.39756170830736, -26.982528997606824, 83.55027068321579, 94.25180593941533, 36.07144820156402, -178.02286540392615, -118.8395379037904, 19.161460367271136, 54.64629376224954, -59.892034249574756, -35.96813594894241, -57.65237491672553, -116.94783808358676, -51.98203700795245, -32.17733785802531, -179.585907833453, -214.53302876325586, -34.8350482931858, 146.9498272341112, -38.98409388703818, -44.99989298751646, 33.693784322204664, 44.3573379622753, 129.37164778236013, -4.330629856305506, -75.2141972195792, -104.88747181550991, 162.15386502530583, -160.3457213146452, 64.54538153765284, 143.7549821458169, 102.74341021654283, -17.513213777014297, 181.94570603147378, -24.670534881727853, 27.901941301454425, 34.446932720701014, 177.06468215090987, -158.22964796094578, 171.3695942331934, 107.24036131769712, -5.562722720017815, -185.89454387903083, 168.22431870108264, 53.55660659340404, -55.70724227983422, 8.800449575148322, 35.78061672192997, 113.85432463569168, -76.63418839684435, -81.11762652661764, 88.13869088833928, -10.288328709767137, 136.6462812170255, 8.89665336502105, 12.739409984663967, 21.251862862520948, -162.45380733808386, 13.127024680252305, 6.031197931657832, 47.89077042955949, -196.48215026851776, -116.88372409338373, 116.67316753314176, -222.28976422169345, -69.84307412266283, 111.84200464971347, 159.06897036817335, -22.88021670784854, 96.05747694708667, -28.180288804407564, -68.57888020418511, -13.188138663186852, -16.316323180731356, -73.87718660284635, 26.477534967337398, 0.9971707556068736, 0.6765220581118266, 50.36622961292269, 84.64585560613035, 98.19882370090852, 37.161207780102885, 23.09491852949379, 67.96728393352127, -38.155554012533514, -42.29614985021147, 155.17753296378723, -11.314823981301458, 66.61644991697598, -40.5342657635268, -81.64912114429123, 16.67720724045494, 130.0718475879303, 38.21666035098218, 36.196294086844425, 12.386258742109916, -122.21648204220084, 41.223917585229856, -141.9932357403303, 60.55884104082938, -60.78512621030304, 207.18426466348748, 60.51616580576128, -153.3037134163632, 55.726016242070166, -125.12458661851365, -97.89586333349379, -44.61238460599675, -79.93314837778684, -69.33630536867445, 41.50987837295614, 106.24108075617185, 144.1017652251808, 39.02286936176011, -31.853075949083067, -116.44314659400524, -199.11009676732417, 113.21309184441279, 15.170943034670463, 61.916487011006126, 23.45444130960452, -69.43989876323057, -187.2145715794573, 20.09719326650543, 56.21789540340898, -57.16875873328773, -43.314316862348235, -131.59648125985453, 15.432715241176275, 77.3295750777968, 23.201955629734893, -110.753144404206, -11.45477878392585, 99.22870894391671, -92.9331826231728, 2.882109195504899, -48.84936144220705, 35.932947172481775, 116.47085495485561, 4.551224416507567, 99.19223285091131, -34.64594127854026, 56.09203702041077, -107.54790950295957, 154.3250427922267, 176.14907593764963, -62.125535895254146, -107.88505762698483, 74.99383503646267, 64.52151007815537, -6.532540167784641, -200.6146818159788, 53.921173436659764, -170.80946051118562, -10.662760977093239, 89.35203712872796, -165.92343408161926, 28.206822667676374, -20.930697809937048, 30.760099490948182, 92.78297268191143, -22.66639254308176, -178.4335939631093, -12.637704747845955, -37.77453837770034, 147.8615531541972, 98.6074295228546, 45.89895047073765, -61.230853817844455, 60.66649755058783, 91.47992195102391, 130.3691483236977, -91.96853658236105, -95.70386961452488, -16.74912860060447, 29.065822454554606, 42.28240317460613, -81.56669248193757, 136.30242646878642, -112.5405644032186, 60.80746204608513, 94.21069339866632, -217.14585065402736, 63.437551338122965, -100.84380244283484, 42.16816597340409, 104.55870297120683, -82.17695304866648, -37.370250850141886, 22.03915067978661, -16.719995178103513, 97.67030897309196, 36.37485830360107, -180.46685725687115, 33.74808880744356, 105.50865537264416, 119.10917199669036, 61.353269242297145, 53.01839247724385, -162.9829776621921, -5.615762429836965, 117.18767187843012, 36.591688668495806, -38.12396492352368, -47.67871359625292, -11.877145609828077, 50.269102806568, 103.52054413073057, -26.42743941038878, -55.83746828240656, -9.939034952171916, -35.32635147570509, 97.86470677796454, -121.19203415079132, -111.88237915673405, 4.455500468717122, 59.19411229377276, -101.51658501003985, 41.69669577542165, -164.7779799493527, -172.26680031354806, -175.28477778001178, 124.1256925330748, -161.0222354833155, -14.175158148745206, 82.0341947227775, -203.64627751516184, 73.65446825521843, -77.6798521814664, 67.53263751579021, -173.9585324164843, 60.27264105867997, 15.359645038407894, 56.804128193015984, -28.00300132030476, -62.44084141017853, 182.6212743741948, 201.81791343278525, -43.50761033151819, 61.13726170739654, -16.057219689338375, 9.317966175999672, 110.4642224688469, -62.09149658038287, 8.030001262543909, 46.602656328241046, -4.7940547324182905, 0.8472891034167753, -87.27613589921441, -75.589846659305, 24.773662132967633, -53.195705467848484, -181.1955693109364, -43.13077213724451, 180.98697461940174, -83.21159033640502, 120.69950867520993, -65.45971126188459, -197.29559279705413, -97.63419384730307, 115.79692091519837, 46.09398330031067, 199.9372805168308, -92.82749001223038, -110.88649071072527, -43.40766773661004, -150.98394432794538, -37.16687192465034, -25.57701982946259, -96.58084706575598, 6.919695131977579, -77.32376457210074, -16.495599616392898, 17.106665087287013, 27.707667273769463, -158.08222576634873, -40.10829023584408, 159.40132109995022, -3.5218899771643546, -202.00963004544198, -36.50491763132944, 56.90268831765715, 8.120315828711282, 21.217049988031558, -55.82429189145761, -102.58454418370052, -176.295940522632, -116.37700793396176, -187.83963080614475, 64.78007059624747, -150.83246370910615, 41.212996047063896, 83.77212627705013, -116.83069633467217, -25.36616637613908, 39.619183679370295, -55.49854576183547, 63.88243690561542, -79.62305460228109, -128.36941741315763, 79.3475923670711, 118.32607975209055, 79.90501113497372, 124.44062946042203, -65.61190261497477, 30.020158153686094, 45.29941489531874, -128.46859868996893, -53.33759824400898, -15.898321045573688, 48.74459544017722, 63.64648288418058, -94.41431061347171, 45.0212322760415, -44.311759339287036, 74.86733101087982, -39.83140185310145, -148.02134472778778, -207.51393008075286, 108.08264330857848, -78.04944988154932, -73.11335444538713, -1.6989938248917829, -25.47322824012075, -174.50743239964345, -234.68941869764237, 81.42000783134401, 94.48434073143389, -27.339514143669707, 16.185968959445045, 139.15793565323855, 102.57200695992366, -70.92701768291579, -33.34278849657696, 126.49868691366687, -286.73272659796476, 147.21214621608968, 80.8877665528971, -203.5859832999241, -78.52170124507943, -42.52485827495868, 140.76983218421552, -173.6111882019062, 108.85019115836181, -7.072023423288068, 6.510760751229007, 7.092534270697272, -12.170931617924857, -58.55293318913241, 80.12421360350996, 228.9853855098405, -124.2914076127068, 10.604354030192425, 55.001590956008776, 36.605775854640875, -142.8090378151018, 69.56070306432234, -34.55098945677455, -124.83724053754051, 239.95241342673944, 56.83313740835355, -87.2288994936367, -144.00931415841583, -30.317073721663125, -69.96879159072667, 150.63916084741066, -3.883119222092302, -148.18241055874003, 9.84775710780877, -75.54753206634355, 48.14902864314413, 185.32253377987857, 186.06578033502842, -92.79995589329071, 102.88815371681434, 112.40722334720286, -90.42800938219116, 0.7942133185065408, -85.91999366457055, 31.745401269415705, 6.789687972217226, 132.25715028769466, 96.40607450346025, 113.7991974873939, 6.483000710124899, -20.754791344079614, 161.3238947451305, 79.50411101612093, 20.689246855241723, -39.94736834626955, 161.67521986031204, 36.833525565473366, 33.567233712223135, -207.3405178224298, -14.968357248071582, 185.99775351238645, 89.58126296386659, 162.93150514805205, 123.4434245492903, 40.31130829010833, 12.23401380411371, -53.45282126528714, 102.077659681289, 72.86643877793456, 69.48991807592361, -90.11090165590221, 13.275106988473267, 185.8104304638331, -156.35068281744717, 169.68330198354784, -84.4527821090249, -200.16641811017038, 112.84364956319546, 58.7302776937275, 133.83924838080364, 16.433575024016253, 163.10813253170548, 41.5940538819651, -43.831829563691834, -170.1855281719232, -200.533880475599, 38.90439034664249, -72.92857359341465, -30.02606916783273, -115.56570665599963, -108.59105424158076, 49.65010110474983, -15.421802915199326, -104.41089609739052, -19.424839463592388, -90.80145654521237, -1.9721382588065801, 43.952583074165844, 74.95328309444493, -25.87380514007044, 21.32029223862734, -49.06588494174252, 100.93942673756248, 51.51219485746241, 4.54035317289826, 86.48852391237043, -41.06570939594625, -8.270022724256833, 44.03668510345552, 98.50570910594111, 39.49914263893357, -18.600588198941168, -202.20349546044068, 21.303088245336834, 146.47662807363332, -29.419185386690163, -82.7170550583688, -104.91496165690694, -51.8632282673053, -77.52168057830245, 125.66023968818304, 127.01928902308242, -102.43553791034341, -26.364512482374348, -27.93664330125869, 72.8159692851753, 25.281719467693218, 114.37347825152386, -34.955984546825384, 52.02342032715898, 47.7786115104253, 8.493978167110642, -13.026440927062279, -46.741611909877484, -66.13567301134557, 43.919878301163095, 17.907257882779774, -1.4353184762663087, -24.848959746464626, -192.39804339640722, 100.42652265704824, 158.2329640040974, 124.93243309780584, 88.22934751922135, -13.245934407301126, -210.37619008029648, -123.88543228282619, 8.253586970715912, -115.24024565845255, -20.780487420104727, 27.668892001813727, -39.70571327176397, -169.68066193889538, -51.575310584884626, 75.56954479872465, 17.321897956140365, 70.18596703670325, -80.39724138555252, 58.383432758494926, -38.740574886525565, -70.99576989503421, 23.70634147982309, 24.365630654211145, -204.3542489838106, 32.66980164058414, -86.46320143256824, -115.54595243742297, 69.18708777437224, 23.16514784319859, 53.776510564065475, -73.0996284900558, -9.951569217338456, -62.092009904382586, 30.642724429223353, 128.25726734471775, -75.91477660085171, 151.0953729100983, -3.708722403769499, 19.03999144754564, -34.869106183579184, 54.598598627405025, 123.95609107512105, 106.6543170814714, 18.872357422765184, 60.277702262389674, 82.3713381615295, 106.8739105454193, 118.21728922388702, 30.285371007586132, -127.31741469274539, -218.20229891153215, -12.152768675282207, -55.846544301197, -27.54641011701157, -157.29382549602514, -31.654824603721362, 46.5959025213325, 28.4738813552486, 154.1648349786267, 147.52913910076492, -180.28598992888078, 146.95577572630648, 56.49175927681854, 28.9686504503903, -75.77701381051433, 130.64547307629368, 152.88713257164224, -71.60731160672161, 126.36906229678442, 17.651520946029756, 43.559510120886635, 217.8860691737369, -98.62634629374817, -5.965296385682798, 98.64735834610923, 81.83541207305923, -40.15455398651391, -54.13818187827621, -22.51291903568179, -58.164645879677664, -27.420319481586674, 60.17295486578959, 77.26167687801097, -99.04780700274057, -29.82232687195617, -0.5187710739731106, 25.70658973004934, 104.88852246415605, 3.7047441439603723, 45.50837456460433, -32.86983955140294, 135.8357811663054, -89.57591554949957, -28.698138285895443, -131.83774879713798, 143.5430987274135, -96.47291879587993, 8.562237229474317, -17.285074330664628, -17.213278464110516, -63.06421315231857, 56.990776773496066, -14.322854176585608, 12.906228791632804, 55.762723213197376, -49.413358451165614, -107.17569461451029, 51.29346877703326, -172.61414252960688, 11.915702527203612, -39.57742658732027, -48.14939194657197, 78.81176868417302, -79.07777555309468, 43.72196520122761, -85.34993726228038, -37.240752086339505, -77.98462134988795, -19.16843033415409, -194.09890634415808, -152.68884474066047, 60.48270521002926, -161.68903060563628, 127.42269652386688, 75.67851892136146, -47.456187933156826, 68.45895353345146, -176.28458663114358, -36.85128343179314, 88.66093534736639, 14.739264477445007, 29.148043098275647, -34.33692682016305, -8.805341115107671, 11.245394452290787, -12.748875631276485, 47.111561234562494, 134.95565528003436, 3.5917314846964525, -6.047913085855779, -54.041323389327296, 1.6379481724087526, 30.962104502386943, -155.69683914374878, -122.66892564552045, 98.89087218347112, 11.257058495016132, -15.527918145991896, -75.27135733799345, 110.05755699456746, 60.026678560520594, -70.43489238308837, -61.3495016257838, 163.4860569009248, -34.506051955978116, -68.46482073451315, -228.7134364695474, 157.24198569166055, 100.16338483220058, -140.74477740636414, 190.0854425599056, -23.485100935603572, 163.06223502158286, -72.25839043206082, -126.95247327024435, -1.6207905526714055, 69.95656677763797, -246.46029794876017, -59.10088107067843, 88.96785780416887, -207.69817774784093, -103.97090061766669, 3.5109246296720613, 101.48922093189998, -40.928218059083115, -54.743818932711164, 103.42727638751208, -156.26398461163888, 121.40062500248715, 2.8682868074847865, 7.848388622534479, -81.1410346721612, -145.09304567138233, -13.253690897069232, -136.2304310320116, -27.827149547648677, 77.64806080659756, 52.174102069282455, -5.360090937706929, -200.7214492144456, 103.85516207759918, -171.04268217581773, -153.98868749025286, -96.07914375812678, 9.65262975411632, -65.40672625570488, 8.518425698576243, 81.59910679210974, -67.67796806806177, -145.66714537172234, -9.729531767605922, 61.7358813784499, -184.58820877679878, -88.37508383648778, 126.79392902239567, 192.318784268908, 201.3654327344448, 153.48378447378775, -71.39721038710752, 103.96249090434088, -146.37637315187843, -65.33558944570224, -121.05449155871554, -107.79887491286082, 65.74222886006613, 74.36573224446794, 91.95496997111921, -113.2397663105064, -72.33725264132835, -22.000698741309193, -152.0624321942167, -41.67714295865126, -95.18562346362359, -83.58171634810704, -136.2333972059675, -60.22059949923428, -185.5689780647942, 102.88353891514951, 47.177764770703305, 59.01272319627697, 5.628375536333376, -67.89953161472506, -68.2579949604115, 8.951057015317026, -126.70061223045414, -5.93503675646148, 186.26058375393427, -48.38310654169283, 16.67000640389084, -21.767422805119807, 190.38836359033724, 23.436626370456594, -148.02184983014126, -2.687753976382292, -33.09813182661946, 87.84393457715584, 86.49135385924427, 26.0079786583931, 83.70932989473738, -32.28660304818682, 109.0868238844177, 29.320084308977325, 110.07422360782883, 63.10924467713231, 15.146690968173226, -32.95774907056708, 155.23235650176537, -225.03508841162346, -85.34661793635127, 103.80231414748211, -22.829226074692603, 45.843315638142485, -22.626776606697227, -13.06443955461485, -128.65846237097583, -53.231201933299644, -15.080987537713312, 30.40345136291684, -52.977445406365504, -122.83400393790544, -30.345719188787484, -196.95774254654734, 0.9614461558531402, -81.94369471344682, 17.49205419740701, 120.11236516607711, -216.164637915979, 48.971522926992314, 146.5378509768061, 109.37924566291653, 92.77890648463422, 1.7810017664093305, 12.763789498577607, -66.13364915527815, -147.3986976601197, 88.17794815620378, 15.110236198338287, 95.82202348036418, -89.42289851806895, 7.778164361116342, -111.15646267493912, -49.1314078433474, 123.04216872788949, -97.31315241275723, 85.7114685121054, -137.3572964056119, -38.361947075660275, 168.5323485036854, 75.61551253749504, 114.57142874355186, -75.2142740094907, -193.32060822527694, 65.05478822069827, 53.372502562724556, 92.44326703270386, -52.69783772920353, -134.43108201590232, -95.70002815124309, -70.37450166698397, 83.82494763399207, 29.09900831774849, 29.768965201765624, 174.66660727530945, -79.61236043413815, -58.92332374101054, 54.46057275415662, -224.35910109676755, 149.1683460024768, -95.3409101925273, -132.704087812387]}\n"
     ]
    }
   ],
   "source": [
    "!python3 async_predict.py --num_requests 4"
   ]
  },
  {
   "cell_type": "markdown",
   "id": "6f38d2f2",
   "metadata": {},
   "source": [
    "Предсказания одинаковые так как мы обучили одинаковые модели на одних и тех же данных, и запустили predict на опять на одинаковых данных"
   ]
  }
 ],
 "metadata": {
  "kernelspec": {
   "display_name": ".venv",
   "language": "python",
   "name": "python3"
  },
  "language_info": {
   "codemirror_mode": {
    "name": "ipython",
    "version": 3
   },
   "file_extension": ".py",
   "mimetype": "text/x-python",
   "name": "python",
   "nbconvert_exporter": "python",
   "pygments_lexer": "ipython3",
   "version": "3.12.3"
  }
 },
 "nbformat": 4,
 "nbformat_minor": 5
}
